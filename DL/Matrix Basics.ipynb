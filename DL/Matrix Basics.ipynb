{
 "cells": [
  {
   "cell_type": "code",
   "execution_count": 49,
   "id": "40782d33",
   "metadata": {},
   "outputs": [],
   "source": [
    "import numpy as np"
   ]
  },
  {
   "cell_type": "code",
   "execution_count": 50,
   "id": "c88376d1",
   "metadata": {},
   "outputs": [],
   "source": [
    "total_income = np.array([[20,40,60] , [30,60,80] ,[10,48,29]])\n",
    "total_investment = np.array([[10 , 40 , 50] , [30,70,90] , [20,50,40]])"
   ]
  },
  {
   "cell_type": "code",
   "execution_count": 51,
   "id": "5c9edf7f",
   "metadata": {},
   "outputs": [
    {
     "data": {
      "text/plain": [
       "array([[ 10,   0,  10],\n",
       "       [  0, -10, -10],\n",
       "       [-10,  -2, -11]])"
      ]
     },
     "execution_count": 51,
     "metadata": {},
     "output_type": "execute_result"
    }
   ],
   "source": [
    "profit = total_income - total_investment\n",
    "profit"
   ]
  },
  {
   "cell_type": "code",
   "execution_count": 52,
   "id": "cadf98ab",
   "metadata": {},
   "outputs": [],
   "source": [
    "a = np.array( [1,2,4] )\n",
    "b = np.array([[4,5,0] , [30,70,90] , [20,50,40]])"
   ]
  },
  {
   "cell_type": "code",
   "execution_count": 53,
   "id": "b2652312",
   "metadata": {},
   "outputs": [
    {
     "data": {
      "text/plain": [
       "array([144, 345, 340])"
      ]
     },
     "execution_count": 53,
     "metadata": {},
     "output_type": "execute_result"
    }
   ],
   "source": [
    "np.dot(a , b)"
   ]
  },
  {
   "cell_type": "code",
   "execution_count": null,
   "id": "07707807",
   "metadata": {},
   "outputs": [],
   "source": []
  }
 ],
 "metadata": {
  "kernelspec": {
   "display_name": "Python 3 (ipykernel)",
   "language": "python",
   "name": "python3"
  },
  "language_info": {
   "codemirror_mode": {
    "name": "ipython",
    "version": 3
   },
   "file_extension": ".py",
   "mimetype": "text/x-python",
   "name": "python",
   "nbconvert_exporter": "python",
   "pygments_lexer": "ipython3",
   "version": "3.11.5"
  }
 },
 "nbformat": 4,
 "nbformat_minor": 5
}
