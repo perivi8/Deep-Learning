{
 "cells": [
  {
   "cell_type": "markdown",
   "id": "3f15b962",
   "metadata": {},
   "source": [
    "# Mean_absulute_error\n",
    "### Without Using Numpy"
   ]
  },
  {
   "cell_type": "code",
   "execution_count": 3,
   "id": "b9f7e2f8",
   "metadata": {},
   "outputs": [],
   "source": [
    "import numpy as np"
   ]
  },
  {
   "cell_type": "code",
   "execution_count": 4,
   "id": "ae0c3cf3",
   "metadata": {},
   "outputs": [],
   "source": [
    "y_true =     np.array([2 , 4 , 5 , 1 ,8])\n",
    "y_predict = np.array([3.0 , 4 , 7.1 , 0 , 6.89])"
   ]
  },
  {
   "cell_type": "code",
   "execution_count": 5,
   "id": "39a3aa0d",
   "metadata": {},
   "outputs": [],
   "source": [
    "def mean_absulute_error(y_true , y_predict ):\n",
    "    total_error =0\n",
    "    for yt ,yp  in zip(y_true ,y_predict ): # zip function is used to combine the true value and predicted values\n",
    "        total_error += abs(yt - yp)\n",
    "    print('total_error :' ,total_error)\n",
    "    mean_absulute_error  = total_error/ len(y_true)\n",
    "    print('MAE :-' , mean_absulute_error)\n",
    "    return mean_absulute_error"
   ]
  },
  {
   "cell_type": "code",
   "execution_count": 6,
   "id": "d27dc600",
   "metadata": {},
   "outputs": [
    {
     "name": "stdout",
     "output_type": "stream",
     "text": [
      "total_error : 5.21\n",
      "MAE :- 1.042\n"
     ]
    },
    {
     "data": {
      "text/plain": [
       "1.042"
      ]
     },
     "execution_count": 6,
     "metadata": {},
     "output_type": "execute_result"
    }
   ],
   "source": [
    "mean_absulute_error(y_true , y_predict )"
   ]
  },
  {
   "cell_type": "markdown",
   "id": "20ea36db",
   "metadata": {},
   "source": [
    "## Using Numpy"
   ]
  },
  {
   "cell_type": "code",
   "execution_count": 7,
   "id": "2566b26f",
   "metadata": {},
   "outputs": [],
   "source": [
    "# This method is very easy"
   ]
  },
  {
   "cell_type": "code",
   "execution_count": 8,
   "id": "51118202",
   "metadata": {},
   "outputs": [
    {
     "data": {
      "text/plain": [
       "1.042"
      ]
     },
     "execution_count": 8,
     "metadata": {},
     "output_type": "execute_result"
    }
   ],
   "source": [
    "z = np.mean(np.abs(y_true - y_predict))\n",
    "z"
   ]
  },
  {
   "cell_type": "markdown",
   "id": "bbda751e",
   "metadata": {},
   "source": [
    "# Mean Square Error\n",
    "### Using Numpy"
   ]
  },
  {
   "cell_type": "code",
   "execution_count": 9,
   "id": "edbc25b3",
   "metadata": {},
   "outputs": [
    {
     "data": {
      "text/plain": [
       "1.52842"
      ]
     },
     "execution_count": 9,
     "metadata": {},
     "output_type": "execute_result"
    }
   ],
   "source": [
    "z1 = np.mean(np.square(y_true - y_predict))\n",
    "z1"
   ]
  },
  {
   "cell_type": "markdown",
   "id": "ebf7e448",
   "metadata": {},
   "source": [
    "#  Log Loss function  (or)   Binary Cross Entropy\n",
    "### Without Using Numpy"
   ]
  },
  {
   "cell_type": "code",
   "execution_count": 10,
   "id": "d964ad38",
   "metadata": {},
   "outputs": [],
   "source": [
    "# This method is very easy"
   ]
  },
  {
   "cell_type": "code",
   "execution_count": 11,
   "id": "b3da5575",
   "metadata": {},
   "outputs": [],
   "source": [
    "def log_loss(y_true ,y_predict):\n",
    "    epsilon = 1e-15\n",
    "    y_predict_new = [max(i , epsilon) for i in y_predict]\n",
    "    y_predict_new = [min(i , 1-epsilon) for  i in y_predict_new]\n",
    "    y_predict_new = np.array(y_predict_new)\n",
    "    return -np.mean(y_true*np.log(y_predict_new)+(1-y_true)*np.log(1-y_predict_new))"
   ]
  },
  {
   "cell_type": "code",
   "execution_count": 12,
   "id": "9427ac52",
   "metadata": {},
   "outputs": [
    {
     "data": {
      "text/plain": [
       "-96.7109726980405"
      ]
     },
     "execution_count": 12,
     "metadata": {},
     "output_type": "execute_result"
    }
   ],
   "source": [
    "log_loss(y_true,y_predict)"
   ]
  },
  {
   "cell_type": "markdown",
   "id": "e9fe2dac",
   "metadata": {},
   "source": [
    "# using Numpy"
   ]
  },
  {
   "cell_type": "code",
   "execution_count": 13,
   "id": "039e5c57",
   "metadata": {},
   "outputs": [],
   "source": [
    "epsilon = 1e-15"
   ]
  },
  {
   "cell_type": "code",
   "execution_count": 14,
   "id": "2db2d53f",
   "metadata": {},
   "outputs": [
    {
     "data": {
      "text/plain": [
       "[3.0, 4.0, 7.1, 1e-15, 6.89]"
      ]
     },
     "execution_count": 14,
     "metadata": {},
     "output_type": "execute_result"
    }
   ],
   "source": [
    "y_predict_new1 = [max(i , epsilon) for i in y_predict]\n",
    "y_predict_new1"
   ]
  },
  {
   "cell_type": "code",
   "execution_count": 15,
   "id": "8cd935b1",
   "metadata": {},
   "outputs": [
    {
     "data": {
      "text/plain": [
       "[0.999999999999999,\n",
       " 0.999999999999999,\n",
       " 0.999999999999999,\n",
       " 1e-15,\n",
       " 0.999999999999999]"
      ]
     },
     "execution_count": 15,
     "metadata": {},
     "output_type": "execute_result"
    }
   ],
   "source": [
    "y_predict_new1 = [min(i , 1-epsilon) for  i in y_predict_new1]\n",
    "y_predict_new1"
   ]
  },
  {
   "cell_type": "code",
   "execution_count": 16,
   "id": "6ff3d218",
   "metadata": {},
   "outputs": [
    {
     "data": {
      "text/plain": [
       "array([-9.99200722e-16, -9.99200722e-16, -9.99200722e-16, -3.45387764e+01,\n",
       "       -9.99200722e-16])"
      ]
     },
     "execution_count": 16,
     "metadata": {},
     "output_type": "execute_result"
    }
   ],
   "source": [
    "y_predict_new1 = np.array(y_predict_new1)\n",
    "np.log(y_predict_new1)"
   ]
  },
  {
   "cell_type": "code",
   "execution_count": 17,
   "id": "85d42b9d",
   "metadata": {},
   "outputs": [
    {
     "data": {
      "text/plain": [
       "-96.7109726980405"
      ]
     },
     "execution_count": 17,
     "metadata": {},
     "output_type": "execute_result"
    }
   ],
   "source": [
    "-np.mean(y_true*np.log(y_predict_new1)+(1-y_true)*np.log(1-y_predict_new1))"
   ]
  },
  {
   "cell_type": "code",
   "execution_count": null,
   "id": "4e775cf6",
   "metadata": {},
   "outputs": [],
   "source": []
  }
 ],
 "metadata": {
  "kernelspec": {
   "display_name": "Python 3 (ipykernel)",
   "language": "python",
   "name": "python3"
  },
  "language_info": {
   "codemirror_mode": {
    "name": "ipython",
    "version": 3
   },
   "file_extension": ".py",
   "mimetype": "text/x-python",
   "name": "python",
   "nbconvert_exporter": "python",
   "pygments_lexer": "ipython3",
   "version": "3.11.5"
  }
 },
 "nbformat": 4,
 "nbformat_minor": 5
}
