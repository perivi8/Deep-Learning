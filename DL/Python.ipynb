{
 "cells": [
  {
   "cell_type": "code",
   "execution_count": 1,
   "id": "2905be5a",
   "metadata": {},
   "outputs": [],
   "source": [
    "list_of_items ={\n",
    "    \"biscuits\" :{\"quantity\" : 5 , \"cost\" :20.50} ,\n",
    "    \"cereals\":{\"quantity\" : 4 , \"cost\" :90.00} ,\n",
    "    \"chicken\":{\"quantity\" : 6 , \"cost\" :200.00}, \n",
    "    \"oats\":{\"quantity\" : 7 , \"cost\" :39.99}, \n",
    "    \"rice\":{\"quantity\" : 20 , \"cost\" :79.99} \n",
    "}"
   ]
  },
  {
   "cell_type": "code",
   "execution_count": 2,
   "id": "a89f361d",
   "metadata": {
    "scrolled": false
   },
   "outputs": [
    {
     "name": "stdout",
     "output_type": "stream",
     "text": [
      "{'quantity': 5, 'cost': 20.5}\n",
      "5\n",
      "20.5\n",
      "{'quantity': 4, 'cost': 90.0}\n",
      "4\n",
      "90.0\n",
      "{'quantity': 6, 'cost': 200.0}\n",
      "6\n",
      "200.0\n",
      "{'quantity': 7, 'cost': 39.99}\n",
      "7\n",
      "39.99\n",
      "{'quantity': 20, 'cost': 79.99}\n",
      "20\n",
      "79.99\n"
     ]
    }
   ],
   "source": [
    "for details in list_of_items.values():\n",
    "    print(details)\n",
    "    print(details['quantity'])\n",
    "    print(details['cost'])"
   ]
  },
  {
   "cell_type": "code",
   "execution_count": 3,
   "id": "15926a54",
   "metadata": {
    "scrolled": true
   },
   "outputs": [
    {
     "data": {
      "text/plain": [
       "dict_keys(['biscuits', 'cereals', 'chicken', 'oats', 'rice'])"
      ]
     },
     "execution_count": 3,
     "metadata": {},
     "output_type": "execute_result"
    }
   ],
   "source": [
    "list_of_items.keys()"
   ]
  },
  {
   "cell_type": "code",
   "execution_count": null,
   "id": "fca5a0c8",
   "metadata": {},
   "outputs": [],
   "source": []
  },
  {
   "cell_type": "code",
   "execution_count": 5,
   "id": "07802762",
   "metadata": {
    "scrolled": false
   },
   "outputs": [
    {
     "name": "stdout",
     "output_type": "stream",
     "text": [
      "Enter you biscuits Quantites you want ? = 4\n",
      "biscuits added to cart\n",
      "Enter you cereals Quantites you want ? = 5\n",
      "cereals Out of stock !\n",
      "4 , cereals are available !\n",
      "Enter you cereals Quantites you want ? = 9\n",
      "cereals added to cart\n",
      "4 , cereals are available !\n",
      "Enter you cereals Quantites you want ? = 7\n",
      "cereals added to cart\n",
      "4 , cereals are available !\n",
      "Enter you cereals Quantites you want ? = 6\n",
      "cereals added to cart\n",
      "4 , cereals are available !\n",
      "Enter you cereals Quantites you want ? = 3\n",
      "cereals added to cart\n",
      "Enter you chicken Quantites you want ? = 3\n",
      "chicken added to cart\n",
      "Enter you oats Quantites you want ? = 3\n",
      "oats added to cart\n",
      "Enter you rice Quantites you want ? = 3\n",
      "rice added to cart\n"
     ]
    }
   ],
   "source": [
    "for item_name , item_details in list_of_items.items():\n",
    "    quantities = int(input(f'Enter you {item_name} Quantites you want ? = '))\n",
    "    \n",
    "    if quantities <= item_details[\"quantity\"] and quantities >=1:\n",
    "        print(f\"{item_name} added to cart\")\n",
    "\n",
    "    elif quantities >= item_details[\"quantity\"] :\n",
    "        print(f'{item_name} Out of stock !')\n",
    "        \n",
    "        while quantities >= item_details[\"quantity\"]:\n",
    "            print(f'{item_details[\"quantity\"]} , {item_name} are available !')\n",
    "            quantities = int(input(f'Enter you {item_name} Quantites you want ? = '))\n",
    "            print(f\"{item_name} added to cart\")\n",
    "                \n",
    "    else :\n",
    "        print(f\"You noo need {item_name} !!\")  \n",
    "        \n",
    "   "
   ]
  },
  {
   "cell_type": "code",
   "execution_count": null,
   "id": "ab6e6054",
   "metadata": {},
   "outputs": [],
   "source": [
    " for item_details in quantities:\n",
    "        update = item_details[\"quantity\"] - quantities\n",
    "        print(\"\\n--- Remaining Quantityies ---\")\n",
    "        print(f\"{'Item':<15}{'Quantity_left':<15}{'Item / Cost':<10}\")\n",
    "        print(\"-\" * 50)\n",
    "        print(f'{item_name:<15}{update:<15}{item_details[\"cost\"]}')"
   ]
  },
  {
   "cell_type": "code",
   "execution_count": 6,
   "id": "8bedb0ed",
   "metadata": {},
   "outputs": [
    {
     "name": "stdout",
     "output_type": "stream",
     "text": [
      "Enter your biscuits quantities you want? = 9\n",
      "biscuits out of stock!\n",
      "Only 5 biscuits are available!\n",
      "Enter your biscuits quantities you want? = 5\n",
      "5 biscuits added to cart.\n",
      "Enter your cereals quantities you want? = 4\n",
      "4 cereals added to cart.\n",
      "Enter your chicken quantities you want? = 3\n",
      "3 chicken added to cart.\n",
      "Enter your oats quantities you want? = 2\n",
      "2 oats added to cart.\n",
      "Enter your rice quantities you want? = 3\n",
      "3 rice added to cart.\n",
      "\n",
      "Bill Summary:\n",
      "5 x biscuits at $20.5 each: $102.50\n",
      "4 x cereals at $90.0 each: $360.00\n",
      "3 x chicken at $200.0 each: $600.00\n",
      "2 x oats at $39.99 each: $79.98\n",
      "3 x rice at $79.99 each: $239.97\n",
      "Total Bill: $1382.45\n",
      "\n",
      "Remaining Quantities:\n",
      "biscuits: 0 remaining\n",
      "cereals: 0 remaining\n",
      "chicken: 3 remaining\n",
      "oats: 5 remaining\n",
      "rice: 17 remaining\n"
     ]
    }
   ],
   "source": [
    "list_of_items = {\n",
    "    \"biscuits\": {\"quantity\": 5, \"cost\": 20.50},\n",
    "    \"cereals\": {\"quantity\": 4, \"cost\": 90.00},\n",
    "    \"chicken\": {\"quantity\": 6, \"cost\": 200.00},\n",
    "    \"oats\": {\"quantity\": 7, \"cost\": 39.99},\n",
    "    \"rice\": {\"quantity\": 20, \"cost\": 79.99}\n",
    "}\n",
    "\n",
    "# Initialize a cart and total bill\n",
    "cart = {}\n",
    "total_bill = 0.0\n",
    "\n",
    "for item_name, item_details in list_of_items.items():\n",
    "    quantities = int(input(f'Enter your {item_name} quantities you want? = '))\n",
    "    \n",
    "    if quantities <= item_details[\"quantity\"] and quantities >= 1:\n",
    "        print(f\"{quantities} {item_name} added to cart.\")\n",
    "        cart[item_name] = quantities\n",
    "        total_bill += quantities * item_details[\"cost\"]\n",
    "        # Update remaining quantity\n",
    "        item_details[\"quantity\"] -= quantities\n",
    "\n",
    "    elif quantities > item_details[\"quantity\"]:\n",
    "        print(f'{item_name} out of stock!')\n",
    "        while quantities > item_details[\"quantity\"]:\n",
    "            print(f'Only {item_details[\"quantity\"]} {item_name} are available!')\n",
    "            quantities = int(input(f'Enter your {item_name} quantities you want? = '))\n",
    "        if quantities >= 1:\n",
    "            print(f\"{quantities} {item_name} added to cart.\")\n",
    "            cart[item_name] = quantities\n",
    "            total_bill += quantities * item_details[\"cost\"]\n",
    "            # Update remaining quantity\n",
    "            item_details[\"quantity\"] -= quantities\n",
    "    else:\n",
    "        print(f\"You do not need {item_name}!\")\n",
    "\n",
    "# Print the bill\n",
    "print(\"\\nBill Summary:\")\n",
    "for item_name, quantity in cart.items():\n",
    "    cost = quantity * list_of_items[item_name][\"cost\"]\n",
    "    print(f\"{quantity} x {item_name} at ${list_of_items[item_name]['cost']} each: ${cost:.2f}\")\n",
    "\n",
    "print(f\"Total Bill: ${total_bill:.2f}\")\n",
    "\n",
    "# Print remaining quantities\n",
    "print(\"\\nRemaining Quantities:\")\n",
    "for item_name, item_details in list_of_items.items():\n",
    "    print(f\"{item_name}: {item_details['quantity']} remaining\")\n"
   ]
  },
  {
   "cell_type": "code",
   "execution_count": null,
   "id": "4befa29a",
   "metadata": {},
   "outputs": [],
   "source": []
  }
 ],
 "metadata": {
  "kernelspec": {
   "display_name": "Python 3 (ipykernel)",
   "language": "python",
   "name": "python3"
  },
  "language_info": {
   "codemirror_mode": {
    "name": "ipython",
    "version": 3
   },
   "file_extension": ".py",
   "mimetype": "text/x-python",
   "name": "python",
   "nbconvert_exporter": "python",
   "pygments_lexer": "ipython3",
   "version": "3.11.5"
  }
 },
 "nbformat": 4,
 "nbformat_minor": 5
}
