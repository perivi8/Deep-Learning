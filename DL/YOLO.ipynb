{
 "cells": [
  {
   "cell_type": "code",
   "execution_count": 1,
   "id": "c42c3f0c",
   "metadata": {
    "scrolled": true
   },
   "outputs": [
    {
     "name": "stdout",
     "output_type": "stream",
     "text": [
      "Sat Apr 27 00:07:44 2024       \n",
      "+---------------------------------------------------------------------------------------+\n",
      "| NVIDIA-SMI 546.26                 Driver Version: 546.26       CUDA Version: 12.3     |\n",
      "|-----------------------------------------+----------------------+----------------------+\n",
      "| GPU  Name                     TCC/WDDM  | Bus-Id        Disp.A | Volatile Uncorr. ECC |\n",
      "| Fan  Temp   Perf          Pwr:Usage/Cap |         Memory-Usage | GPU-Util  Compute M. |\n",
      "|                                         |                      |               MIG M. |\n",
      "|=========================================+======================+======================|\n",
      "|   0  NVIDIA GeForce GTX 1650      WDDM  | 00000000:01:00.0 Off |                  N/A |\n",
      "| N/A   48C    P8               1W /  50W |    167MiB /  4096MiB |      1%      Default |\n",
      "|                                         |                      |                  N/A |\n",
      "+-----------------------------------------+----------------------+----------------------+\n",
      "                                                                                         \n",
      "+---------------------------------------------------------------------------------------+\n",
      "| Processes:                                                                            |\n",
      "|  GPU   GI   CI        PID   Type   Process name                            GPU Memory |\n",
      "|        ID   ID                                                             Usage      |\n",
      "|=======================================================================================|\n",
      "|    0   N/A  N/A      7616    C+G   ....0_x64__8wekyb3d8bbwe\\HxOutlook.exe    N/A      |\n",
      "|    0   N/A  N/A      7784    C+G   ...e Stream\\90.0.3.0\\GoogleDriveFS.exe    N/A      |\n",
      "|    0   N/A  N/A      8028    C+G   ...__8wekyb3d8bbwe\\WindowsTerminal.exe    N/A      |\n",
      "|    0   N/A  N/A     14576    C+G   ...2txyewy\\StartMenuExperienceHost.exe    N/A      |\n",
      "|    0   N/A  N/A     20176    C+G   ...ekyb3d8bbwe\\PhoneExperienceHost.exe    N/A      |\n",
      "|    0   N/A  N/A     20696    C+G   ...on\\124.0.2478.51\\msedgewebview2.exe    N/A      |\n",
      "|    0   N/A  N/A     20944    C+G   ...nt.CBS_cw5n1h2txyewy\\SearchHost.exe    N/A      |\n",
      "|    0   N/A  N/A     21896    C+G   ...CBS_cw5n1h2txyewy\\TextInputHost.exe    N/A      |\n",
      "+---------------------------------------------------------------------------------------+\n"
     ]
    }
   ],
   "source": [
    "!nvidia-smi"
   ]
  },
  {
   "cell_type": "code",
   "execution_count": 2,
   "id": "e3dc2a5a",
   "metadata": {
    "scrolled": true
   },
   "outputs": [
    {
     "name": "stdout",
     "output_type": "stream",
     "text": [
      "D:\\anacoda\n"
     ]
    }
   ],
   "source": [
    "import os\n",
    "HOME = os.getcwd()\n",
    "print(HOME)"
   ]
  },
  {
   "cell_type": "code",
   "execution_count": 3,
   "id": "02cc9866",
   "metadata": {
    "scrolled": false
   },
   "outputs": [
    {
     "name": "stderr",
     "output_type": "stream",
     "text": [
      "Cloning into 'yolov9'...\n"
     ]
    }
   ],
   "source": [
    "!git clone https://github.com/WongKinYiu/yolov9.git"
   ]
  },
  {
   "cell_type": "code",
   "execution_count": 4,
   "id": "bf5c01fb",
   "metadata": {
    "scrolled": true
   },
   "outputs": [
    {
     "name": "stdout",
     "output_type": "stream",
     "text": [
      "D:\\anacoda\\yolov9\n"
     ]
    }
   ],
   "source": [
    "%cd yolov9"
   ]
  },
  {
   "cell_type": "code",
   "execution_count": 5,
   "id": "8506d87b",
   "metadata": {
    "scrolled": true
   },
   "outputs": [
    {
     "name": "stdout",
     "output_type": "stream",
     "text": [
      "Collecting gitpython (from -r requirements.txt (line 5))\n",
      "  Obtaining dependency information for gitpython from https://files.pythonhosted.org/packages/e9/bd/cc3a402a6439c15c3d4294333e13042b915bbeab54edc457c723931fed3f/GitPython-3.1.43-py3-none-any.whl.metadata\n",
      "  Using cached GitPython-3.1.43-py3-none-any.whl.metadata (13 kB)\n",
      "Requirement already satisfied: ipython in d:\\anacoda\\anaconda\\lib\\site-packages (from -r requirements.txt (line 6)) (8.15.0)\n",
      "Requirement already satisfied: matplotlib>=3.2.2 in d:\\anacoda\\anaconda\\lib\\site-packages (from -r requirements.txt (line 7)) (3.7.2)\n",
      "Requirement already satisfied: numpy>=1.18.5 in d:\\anacoda\\anaconda\\lib\\site-packages (from -r requirements.txt (line 8)) (1.24.3)\n",
      "Requirement already satisfied: opencv-python>=4.1.1 in d:\\anacoda\\anaconda\\lib\\site-packages (from -r requirements.txt (line 9)) (4.9.0.80)\n",
      "Requirement already satisfied: Pillow>=7.1.2 in d:\\anacoda\\anaconda\\lib\\site-packages (from -r requirements.txt (line 10)) (9.4.0)\n",
      "Requirement already satisfied: psutil in d:\\anacoda\\anaconda\\lib\\site-packages (from -r requirements.txt (line 11)) (5.9.0)\n",
      "Requirement already satisfied: PyYAML>=5.3.1 in d:\\anacoda\\anaconda\\lib\\site-packages (from -r requirements.txt (line 12)) (6.0)\n",
      "Requirement already satisfied: requests>=2.23.0 in d:\\anacoda\\anaconda\\lib\\site-packages (from -r requirements.txt (line 13)) (2.31.0)\n",
      "Requirement already satisfied: scipy>=1.4.1 in d:\\anacoda\\anaconda\\lib\\site-packages (from -r requirements.txt (line 14)) (1.11.1)\n",
      "Collecting thop>=0.1.1 (from -r requirements.txt (line 15))\n",
      "  Obtaining dependency information for thop>=0.1.1 from https://files.pythonhosted.org/packages/bb/0f/72beeab4ff5221dc47127c80f8834b4bcd0cb36f6ba91c0b1d04a1233403/thop-0.1.1.post2209072238-py3-none-any.whl.metadata\n",
      "  Using cached thop-0.1.1.post2209072238-py3-none-any.whl.metadata (2.7 kB)\n",
      "Collecting torch>=1.7.0 (from -r requirements.txt (line 16))\n",
      "  Obtaining dependency information for torch>=1.7.0 from https://files.pythonhosted.org/packages/2a/b7/a3cf5fd40334b9785cc83ee0c96b50603026eb3aa70210a33729018e7029/torch-2.3.0-cp311-cp311-win_amd64.whl.metadata\n",
      "  Using cached torch-2.3.0-cp311-cp311-win_amd64.whl.metadata (26 kB)\n",
      "Collecting torchvision>=0.8.1 (from -r requirements.txt (line 17))\n",
      "  Obtaining dependency information for torchvision>=0.8.1 from https://files.pythonhosted.org/packages/12/c2/7c89c62f2b0a606070aa7cdb8af8af0c905562942778ebdd77600642c3b9/torchvision-0.18.0-cp311-cp311-win_amd64.whl.metadata\n",
      "  Using cached torchvision-0.18.0-cp311-cp311-win_amd64.whl.metadata (6.6 kB)\n",
      "Requirement already satisfied: tqdm>=4.64.0 in d:\\anacoda\\anaconda\\lib\\site-packages (from -r requirements.txt (line 18)) (4.65.0)\n",
      "Requirement already satisfied: tensorboard>=2.4.1 in d:\\anacoda\\anaconda\\lib\\site-packages (from -r requirements.txt (line 22)) (2.16.2)\n",
      "Requirement already satisfied: pandas>=1.1.4 in d:\\anacoda\\anaconda\\lib\\site-packages (from -r requirements.txt (line 27)) (2.0.3)\n",
      "Requirement already satisfied: seaborn>=0.11.0 in d:\\anacoda\\anaconda\\lib\\site-packages (from -r requirements.txt (line 28)) (0.12.2)\n",
      "Collecting albumentations>=1.0.3 (from -r requirements.txt (line 46))\n",
      "  Obtaining dependency information for albumentations>=1.0.3 from https://files.pythonhosted.org/packages/9e/a8/0a03dd285c8f910d14c5efc0421485dc4b4005e397318dc0fe9e3218b307/albumentations-1.4.4-py3-none-any.whl.metadata\n",
      "  Using cached albumentations-1.4.4-py3-none-any.whl.metadata (37 kB)\n",
      "Collecting pycocotools>=2.0 (from -r requirements.txt (line 47))\n",
      "  Obtaining dependency information for pycocotools>=2.0 from https://files.pythonhosted.org/packages/24/b2/ef28a34cf6ca50b6b2f7ad81e5837ed45c252ffef22f5a704b94141ea842/pycocotools-2.0.7-cp311-cp311-win_amd64.whl.metadata\n",
      "  Using cached pycocotools-2.0.7-cp311-cp311-win_amd64.whl.metadata (1.1 kB)\n",
      "Collecting gitdb<5,>=4.0.1 (from gitpython->-r requirements.txt (line 5))\n",
      "  Obtaining dependency information for gitdb<5,>=4.0.1 from https://files.pythonhosted.org/packages/fd/5b/8f0c4a5bb9fd491c277c21eff7ccae71b47d43c4446c9d0c6cff2fe8c2c4/gitdb-4.0.11-py3-none-any.whl.metadata\n",
      "  Using cached gitdb-4.0.11-py3-none-any.whl.metadata (1.2 kB)\n",
      "Requirement already satisfied: backcall in d:\\anacoda\\anaconda\\lib\\site-packages (from ipython->-r requirements.txt (line 6)) (0.2.0)\n",
      "Requirement already satisfied: decorator in d:\\anacoda\\anaconda\\lib\\site-packages (from ipython->-r requirements.txt (line 6)) (5.1.1)\n",
      "Requirement already satisfied: jedi>=0.16 in d:\\anacoda\\anaconda\\lib\\site-packages (from ipython->-r requirements.txt (line 6)) (0.18.1)\n",
      "Requirement already satisfied: matplotlib-inline in d:\\anacoda\\anaconda\\lib\\site-packages (from ipython->-r requirements.txt (line 6)) (0.1.6)\n",
      "Requirement already satisfied: pickleshare in d:\\anacoda\\anaconda\\lib\\site-packages (from ipython->-r requirements.txt (line 6)) (0.7.5)\n",
      "Requirement already satisfied: prompt-toolkit!=3.0.37,<3.1.0,>=3.0.30 in d:\\anacoda\\anaconda\\lib\\site-packages (from ipython->-r requirements.txt (line 6)) (3.0.36)\n",
      "Requirement already satisfied: pygments>=2.4.0 in d:\\anacoda\\anaconda\\lib\\site-packages (from ipython->-r requirements.txt (line 6)) (2.15.1)\n",
      "Requirement already satisfied: stack-data in d:\\anacoda\\anaconda\\lib\\site-packages (from ipython->-r requirements.txt (line 6)) (0.2.0)\n",
      "Requirement already satisfied: traitlets>=5 in d:\\anacoda\\anaconda\\lib\\site-packages (from ipython->-r requirements.txt (line 6)) (5.7.1)\n",
      "Requirement already satisfied: colorama in d:\\anacoda\\anaconda\\lib\\site-packages (from ipython->-r requirements.txt (line 6)) (0.4.6)\n",
      "Requirement already satisfied: contourpy>=1.0.1 in d:\\anacoda\\anaconda\\lib\\site-packages (from matplotlib>=3.2.2->-r requirements.txt (line 7)) (1.0.5)\n",
      "Requirement already satisfied: cycler>=0.10 in d:\\anacoda\\anaconda\\lib\\site-packages (from matplotlib>=3.2.2->-r requirements.txt (line 7)) (0.10.0)\n",
      "Requirement already satisfied: fonttools>=4.22.0 in d:\\anacoda\\anaconda\\lib\\site-packages (from matplotlib>=3.2.2->-r requirements.txt (line 7)) (4.25.0)\n",
      "Requirement already satisfied: kiwisolver>=1.0.1 in d:\\anacoda\\anaconda\\lib\\site-packages (from matplotlib>=3.2.2->-r requirements.txt (line 7)) (1.4.4)\n",
      "Requirement already satisfied: packaging>=20.0 in d:\\anacoda\\anaconda\\lib\\site-packages (from matplotlib>=3.2.2->-r requirements.txt (line 7)) (23.1)\n",
      "Requirement already satisfied: pyparsing<3.1,>=2.3.1 in d:\\anacoda\\anaconda\\lib\\site-packages (from matplotlib>=3.2.2->-r requirements.txt (line 7)) (3.0.9)\n",
      "Requirement already satisfied: python-dateutil>=2.7 in d:\\anacoda\\anaconda\\lib\\site-packages (from matplotlib>=3.2.2->-r requirements.txt (line 7)) (2.8.2)\n",
      "Requirement already satisfied: charset-normalizer<4,>=2 in d:\\anacoda\\anaconda\\lib\\site-packages (from requests>=2.23.0->-r requirements.txt (line 13)) (2.0.4)\n",
      "Requirement already satisfied: idna<4,>=2.5 in d:\\anacoda\\anaconda\\lib\\site-packages (from requests>=2.23.0->-r requirements.txt (line 13)) (2.10)\n",
      "Requirement already satisfied: urllib3<3,>=1.21.1 in d:\\anacoda\\anaconda\\lib\\site-packages (from requests>=2.23.0->-r requirements.txt (line 13)) (1.26.16)\n",
      "Requirement already satisfied: certifi>=2017.4.17 in d:\\anacoda\\anaconda\\lib\\site-packages (from requests>=2.23.0->-r requirements.txt (line 13)) (2023.11.17)\n",
      "Requirement already satisfied: filelock in d:\\anacoda\\anaconda\\lib\\site-packages (from torch>=1.7.0->-r requirements.txt (line 16)) (3.9.0)\n",
      "Collecting typing-extensions>=4.8.0 (from torch>=1.7.0->-r requirements.txt (line 16))\n",
      "  Obtaining dependency information for typing-extensions>=4.8.0 from https://files.pythonhosted.org/packages/01/f3/936e209267d6ef7510322191003885de524fc48d1b43269810cd589ceaf5/typing_extensions-4.11.0-py3-none-any.whl.metadata\n",
      "  Using cached typing_extensions-4.11.0-py3-none-any.whl.metadata (3.0 kB)\n",
      "Requirement already satisfied: sympy in d:\\anacoda\\anaconda\\lib\\site-packages (from torch>=1.7.0->-r requirements.txt (line 16)) (1.11.1)\n",
      "Requirement already satisfied: networkx in d:\\anacoda\\anaconda\\lib\\site-packages (from torch>=1.7.0->-r requirements.txt (line 16)) (3.1)\n",
      "Requirement already satisfied: jinja2 in d:\\anacoda\\anaconda\\lib\\site-packages (from torch>=1.7.0->-r requirements.txt (line 16)) (3.1.2)\n",
      "Requirement already satisfied: fsspec in d:\\anacoda\\anaconda\\lib\\site-packages (from torch>=1.7.0->-r requirements.txt (line 16)) (2023.4.0)\n",
      "Collecting mkl<=2021.4.0,>=2021.1.1 (from torch>=1.7.0->-r requirements.txt (line 16))\n",
      "  Obtaining dependency information for mkl<=2021.4.0,>=2021.1.1 from https://files.pythonhosted.org/packages/fe/1c/5f6dbf18e8b73e0a5472466f0ea8d48ce9efae39bd2ff38cebf8dce61259/mkl-2021.4.0-py2.py3-none-win_amd64.whl.metadata\n",
      "  Using cached mkl-2021.4.0-py2.py3-none-win_amd64.whl.metadata (1.4 kB)\n",
      "Requirement already satisfied: absl-py>=0.4 in d:\\anacoda\\anaconda\\lib\\site-packages (from tensorboard>=2.4.1->-r requirements.txt (line 22)) (2.1.0)\n",
      "Requirement already satisfied: grpcio>=1.48.2 in d:\\anacoda\\anaconda\\lib\\site-packages (from tensorboard>=2.4.1->-r requirements.txt (line 22)) (1.60.0)\n",
      "Requirement already satisfied: markdown>=2.6.8 in d:\\anacoda\\anaconda\\lib\\site-packages (from tensorboard>=2.4.1->-r requirements.txt (line 22)) (3.4.1)\n",
      "Requirement already satisfied: protobuf!=4.24.0,>=3.19.6 in d:\\anacoda\\anaconda\\lib\\site-packages (from tensorboard>=2.4.1->-r requirements.txt (line 22)) (4.23.4)\n",
      "Requirement already satisfied: setuptools>=41.0.0 in d:\\anacoda\\anaconda\\lib\\site-packages (from tensorboard>=2.4.1->-r requirements.txt (line 22)) (68.0.0)\n",
      "Requirement already satisfied: six>1.9 in d:\\anacoda\\anaconda\\lib\\site-packages (from tensorboard>=2.4.1->-r requirements.txt (line 22)) (1.16.0)\n",
      "Requirement already satisfied: tensorboard-data-server<0.8.0,>=0.7.0 in d:\\anacoda\\anaconda\\lib\\site-packages (from tensorboard>=2.4.1->-r requirements.txt (line 22)) (0.7.2)\n",
      "Requirement already satisfied: werkzeug>=1.0.1 in d:\\anacoda\\anaconda\\lib\\site-packages (from tensorboard>=2.4.1->-r requirements.txt (line 22)) (2.2.3)\n",
      "Requirement already satisfied: pytz>=2020.1 in d:\\anacoda\\anaconda\\lib\\site-packages (from pandas>=1.1.4->-r requirements.txt (line 27)) (2023.3.post1)\n",
      "Requirement already satisfied: tzdata>=2022.1 in d:\\anacoda\\anaconda\\lib\\site-packages (from pandas>=1.1.4->-r requirements.txt (line 27)) (2023.3)\n",
      "Collecting numpy>=1.18.5 (from -r requirements.txt (line 8))\n",
      "  Obtaining dependency information for numpy>=1.18.5 from https://files.pythonhosted.org/packages/3f/6b/5610004206cf7f8e7ad91c5a85a8c71b2f2f8051a0c0c4d5916b76d6cbb2/numpy-1.26.4-cp311-cp311-win_amd64.whl.metadata\n",
      "  Using cached numpy-1.26.4-cp311-cp311-win_amd64.whl.metadata (61 kB)\n",
      "Collecting scikit-image>=0.21.0 (from albumentations>=1.0.3->-r requirements.txt (line 46))\n",
      "  Obtaining dependency information for scikit-image>=0.21.0 from https://files.pythonhosted.org/packages/eb/ab/8791ce3063e6d4ac7f8efe3c993fd2e911c9e08f4c7dd05b603eaa2493b2/scikit_image-0.23.2-cp311-cp311-win_amd64.whl.metadata\n",
      "  Using cached scikit_image-0.23.2-cp311-cp311-win_amd64.whl.metadata (14 kB)\n",
      "Collecting scikit-learn>=1.3.2 (from albumentations>=1.0.3->-r requirements.txt (line 46))\n",
      "  Obtaining dependency information for scikit-learn>=1.3.2 from https://files.pythonhosted.org/packages/79/3d/02d5d3ed359498fec3abdf65407d3c07e3b8765af17464969055aaec5171/scikit_learn-1.4.2-cp311-cp311-win_amd64.whl.metadata\n",
      "  Using cached scikit_learn-1.4.2-cp311-cp311-win_amd64.whl.metadata (11 kB)\n",
      "Collecting pydantic>=2.6.4 (from albumentations>=1.0.3->-r requirements.txt (line 46))\n",
      "  Obtaining dependency information for pydantic>=2.6.4 from https://files.pythonhosted.org/packages/ed/76/9a17032880ed27f2dbd490c77a3431cbc80f47ba81534131de3c2846e736/pydantic-2.7.1-py3-none-any.whl.metadata\n",
      "  Using cached pydantic-2.7.1-py3-none-any.whl.metadata (107 kB)\n",
      "Collecting opencv-python-headless>=4.9.0 (from albumentations>=1.0.3->-r requirements.txt (line 46))\n",
      "  Obtaining dependency information for opencv-python-headless>=4.9.0 from https://files.pythonhosted.org/packages/20/44/458a0a135866f5e08266566b32ad9a182a7a059a894effe6c41a9c841ff1/opencv_python_headless-4.9.0.80-cp37-abi3-win_amd64.whl.metadata\n",
      "  Using cached opencv_python_headless-4.9.0.80-cp37-abi3-win_amd64.whl.metadata (20 kB)\n",
      "Collecting smmap<6,>=3.0.1 (from gitdb<5,>=4.0.1->gitpython->-r requirements.txt (line 5))\n",
      "  Obtaining dependency information for smmap<6,>=3.0.1 from https://files.pythonhosted.org/packages/a7/a5/10f97f73544edcdef54409f1d839f6049a0d79df68adbc1ceb24d1aaca42/smmap-5.0.1-py3-none-any.whl.metadata\n",
      "  Using cached smmap-5.0.1-py3-none-any.whl.metadata (4.3 kB)\n",
      "Requirement already satisfied: parso<0.9.0,>=0.8.0 in d:\\anacoda\\anaconda\\lib\\site-packages (from jedi>=0.16->ipython->-r requirements.txt (line 6)) (0.8.3)\n",
      "Collecting intel-openmp==2021.* (from mkl<=2021.4.0,>=2021.1.1->torch>=1.7.0->-r requirements.txt (line 16))\n",
      "  Obtaining dependency information for intel-openmp==2021.* from https://files.pythonhosted.org/packages/6f/21/b590c0cc3888b24f2ac9898c41d852d7454a1695fbad34bee85dba6dc408/intel_openmp-2021.4.0-py2.py3-none-win_amd64.whl.metadata\n",
      "  Using cached intel_openmp-2021.4.0-py2.py3-none-win_amd64.whl.metadata (1.2 kB)\n",
      "Collecting tbb==2021.* (from mkl<=2021.4.0,>=2021.1.1->torch>=1.7.0->-r requirements.txt (line 16))\n",
      "  Obtaining dependency information for tbb==2021.* from https://files.pythonhosted.org/packages/7b/2d/1e1c70fae8ace27e6200fb71c2372a9aeac2baba474b1609d7d466e969b4/tbb-2021.12.0-py3-none-win_amd64.whl.metadata\n",
      "  Using cached tbb-2021.12.0-py3-none-win_amd64.whl.metadata (1.1 kB)\n",
      "Requirement already satisfied: wcwidth in d:\\anacoda\\anaconda\\lib\\site-packages (from prompt-toolkit!=3.0.37,<3.1.0,>=3.0.30->ipython->-r requirements.txt (line 6)) (0.2.5)\n",
      "Collecting annotated-types>=0.4.0 (from pydantic>=2.6.4->albumentations>=1.0.3->-r requirements.txt (line 46))\n",
      "  Obtaining dependency information for annotated-types>=0.4.0 from https://files.pythonhosted.org/packages/28/78/d31230046e58c207284c6b2c4e8d96e6d3cb4e52354721b944d3e1ee4aa5/annotated_types-0.6.0-py3-none-any.whl.metadata\n",
      "  Using cached annotated_types-0.6.0-py3-none-any.whl.metadata (12 kB)\n",
      "Collecting pydantic-core==2.18.2 (from pydantic>=2.6.4->albumentations>=1.0.3->-r requirements.txt (line 46))\n",
      "  Obtaining dependency information for pydantic-core==2.18.2 from https://files.pythonhosted.org/packages/9d/b0/e8bebe8fd08ea6ec027b7304c84f4652f2933514caf9f6a418d259d2a950/pydantic_core-2.18.2-cp311-none-win_amd64.whl.metadata\n",
      "  Using cached pydantic_core-2.18.2-cp311-none-win_amd64.whl.metadata (6.7 kB)\n",
      "Collecting imageio>=2.33 (from scikit-image>=0.21.0->albumentations>=1.0.3->-r requirements.txt (line 46))\n",
      "  Obtaining dependency information for imageio>=2.33 from https://files.pythonhosted.org/packages/a3/b6/39c7dad203d9984225f47e0aa39ac3ba3a47c77a02d0ef2a7be691855a06/imageio-2.34.1-py3-none-any.whl.metadata\n",
      "  Using cached imageio-2.34.1-py3-none-any.whl.metadata (4.9 kB)\n",
      "Requirement already satisfied: tifffile>=2022.8.12 in d:\\anacoda\\anaconda\\lib\\site-packages (from scikit-image>=0.21.0->albumentations>=1.0.3->-r requirements.txt (line 46)) (2023.4.12)\n",
      "Collecting lazy-loader>=0.4 (from scikit-image>=0.21.0->albumentations>=1.0.3->-r requirements.txt (line 46))\n",
      "  Obtaining dependency information for lazy-loader>=0.4 from https://files.pythonhosted.org/packages/83/60/d497a310bde3f01cb805196ac61b7ad6dc5dcf8dce66634dc34364b20b4f/lazy_loader-0.4-py3-none-any.whl.metadata\n",
      "  Using cached lazy_loader-0.4-py3-none-any.whl.metadata (7.6 kB)\n",
      "Requirement already satisfied: joblib>=1.2.0 in d:\\anacoda\\anaconda\\lib\\site-packages (from scikit-learn>=1.3.2->albumentations>=1.0.3->-r requirements.txt (line 46)) (1.2.0)\n",
      "Requirement already satisfied: threadpoolctl>=2.0.0 in d:\\anacoda\\anaconda\\lib\\site-packages (from scikit-learn>=1.3.2->albumentations>=1.0.3->-r requirements.txt (line 46)) (2.2.0)\n",
      "Requirement already satisfied: MarkupSafe>=2.1.1 in d:\\anacoda\\anaconda\\lib\\site-packages (from werkzeug>=1.0.1->tensorboard>=2.4.1->-r requirements.txt (line 22)) (2.1.1)\n",
      "Requirement already satisfied: executing in d:\\anacoda\\anaconda\\lib\\site-packages (from stack-data->ipython->-r requirements.txt (line 6)) (0.8.3)\n",
      "Requirement already satisfied: asttokens in d:\\anacoda\\anaconda\\lib\\site-packages (from stack-data->ipython->-r requirements.txt (line 6)) (2.0.5)\n",
      "Requirement already satisfied: pure-eval in d:\\anacoda\\anaconda\\lib\\site-packages (from stack-data->ipython->-r requirements.txt (line 6)) (0.2.2)\n",
      "Requirement already satisfied: mpmath>=0.19 in d:\\anacoda\\anaconda\\lib\\site-packages (from sympy->torch>=1.7.0->-r requirements.txt (line 16)) (1.3.0)\n",
      "Using cached GitPython-3.1.43-py3-none-any.whl (207 kB)\n",
      "Using cached thop-0.1.1.post2209072238-py3-none-any.whl (15 kB)\n",
      "Using cached torch-2.3.0-cp311-cp311-win_amd64.whl (159.8 MB)\n",
      "Using cached torchvision-0.18.0-cp311-cp311-win_amd64.whl (1.2 MB)\n",
      "Using cached albumentations-1.4.4-py3-none-any.whl (150 kB)\n",
      "Using cached numpy-1.26.4-cp311-cp311-win_amd64.whl (15.8 MB)\n",
      "Using cached pycocotools-2.0.7-cp311-cp311-win_amd64.whl (85 kB)\n",
      "Using cached gitdb-4.0.11-py3-none-any.whl (62 kB)\n",
      "Using cached mkl-2021.4.0-py2.py3-none-win_amd64.whl (228.5 MB)\n",
      "Using cached intel_openmp-2021.4.0-py2.py3-none-win_amd64.whl (3.5 MB)\n",
      "Using cached tbb-2021.12.0-py3-none-win_amd64.whl (286 kB)\n",
      "Using cached opencv_python_headless-4.9.0.80-cp37-abi3-win_amd64.whl (38.5 MB)\n",
      "Using cached pydantic-2.7.1-py3-none-any.whl (409 kB)\n",
      "Using cached pydantic_core-2.18.2-cp311-none-win_amd64.whl (1.9 MB)\n",
      "Using cached scikit_image-0.23.2-cp311-cp311-win_amd64.whl (12.7 MB)\n",
      "Using cached scikit_learn-1.4.2-cp311-cp311-win_amd64.whl (10.6 MB)\n",
      "Using cached typing_extensions-4.11.0-py3-none-any.whl (34 kB)\n",
      "Using cached annotated_types-0.6.0-py3-none-any.whl (12 kB)\n",
      "Using cached imageio-2.34.1-py3-none-any.whl (313 kB)\n",
      "Using cached lazy_loader-0.4-py3-none-any.whl (12 kB)\n",
      "Using cached smmap-5.0.1-py3-none-any.whl (24 kB)\n",
      "Installing collected packages: tbb, intel-openmp, typing-extensions, smmap, numpy, mkl, lazy-loader, annotated-types, torch, pydantic-core, opencv-python-headless, imageio, gitdb, torchvision, thop, scikit-learn, scikit-image, pydantic, gitpython, pycocotools, albumentations\n",
      "  Attempting uninstall: tbb\n",
      "    Found existing installation: TBB 0.2\n"
     ]
    },
    {
     "name": "stderr",
     "output_type": "stream",
     "text": [
      "ERROR: Cannot uninstall 'TBB'. It is a distutils installed project and thus we cannot accurately determine which files belong to it which would lead to only a partial uninstall.\n"
     ]
    }
   ],
   "source": [
    "!pip install -r requirements.txt"
   ]
  },
  {
   "cell_type": "code",
   "execution_count": 1,
   "id": "addfd426",
   "metadata": {},
   "outputs": [
    {
     "name": "stderr",
     "output_type": "stream",
     "text": [
      "usage: wget.py [options] URL\n",
      "\n",
      "options:\n",
      "  -o --output FILE|DIR   output filename or directory\n",
      "  -h --help\n",
      "  --version\n",
      "\n"
     ]
    }
   ],
   "source": [
    "!python -m wget"
   ]
  },
  {
   "cell_type": "code",
   "execution_count": 8,
   "id": "959f51be",
   "metadata": {
    "scrolled": true
   },
   "outputs": [
    {
     "name": "stderr",
     "output_type": "stream",
     "text": [
      "'wget' is not recognized as an internal or external command,\n",
      "operable program or batch file.\n"
     ]
    }
   ],
   "source": [
    "!wget -p HOME -q https://github.com/WongKinYiu/yolov9/releases/download/v0.1/yolov9-c.pt"
   ]
  },
  {
   "cell_type": "code",
   "execution_count": null,
   "id": "37e2ea98",
   "metadata": {},
   "outputs": [],
   "source": []
  },
  {
   "cell_type": "code",
   "execution_count": null,
   "id": "c4396768",
   "metadata": {},
   "outputs": [],
   "source": []
  },
  {
   "cell_type": "code",
   "execution_count": null,
   "id": "43d718d0",
   "metadata": {},
   "outputs": [],
   "source": []
  },
  {
   "cell_type": "code",
   "execution_count": null,
   "id": "e56bfd6d",
   "metadata": {},
   "outputs": [],
   "source": []
  }
 ],
 "metadata": {
  "kernelspec": {
   "display_name": "Python 3 (ipykernel)",
   "language": "python",
   "name": "python3"
  },
  "language_info": {
   "codemirror_mode": {
    "name": "ipython",
    "version": 3
   },
   "file_extension": ".py",
   "mimetype": "text/x-python",
   "name": "python",
   "nbconvert_exporter": "python",
   "pygments_lexer": "ipython3",
   "version": "3.11.5"
  }
 },
 "nbformat": 4,
 "nbformat_minor": 5
}
