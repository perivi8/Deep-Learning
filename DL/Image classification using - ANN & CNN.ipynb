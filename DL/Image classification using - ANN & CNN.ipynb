{
 "cells": [
  {
   "cell_type": "code",
   "execution_count": 2,
   "id": "9415609c",
   "metadata": {},
   "outputs": [
    {
     "name": "stdout",
     "output_type": "stream",
     "text": [
      "WARNING:tensorflow:From D:\\anacoda\\ANACONDA\\Lib\\site-packages\\keras\\src\\losses.py:2976: The name tf.losses.sparse_softmax_cross_entropy is deprecated. Please use tf.compat.v1.losses.sparse_softmax_cross_entropy instead.\n",
      "\n"
     ]
    }
   ],
   "source": [
    "import tensorflow as tf"
   ]
  },
  {
   "cell_type": "code",
   "execution_count": 3,
   "id": "5788254e",
   "metadata": {},
   "outputs": [
    {
     "data": {
      "text/plain": [
       "[PhysicalDevice(name='/physical_device:CPU:0', device_type='CPU')]"
      ]
     },
     "execution_count": 3,
     "metadata": {},
     "output_type": "execute_result"
    }
   ],
   "source": [
    "tf.config.experimental.list_physical_devices()"
   ]
  },
  {
   "cell_type": "code",
   "execution_count": 4,
   "id": "7a12f815",
   "metadata": {},
   "outputs": [
    {
     "data": {
      "text/plain": [
       "False"
      ]
     },
     "execution_count": 4,
     "metadata": {},
     "output_type": "execute_result"
    }
   ],
   "source": [
    "tf.test.is_built_with_cuda()    # cuda is not installed"
   ]
  },
  {
   "cell_type": "code",
   "execution_count": 5,
   "id": "d617e7ef",
   "metadata": {},
   "outputs": [],
   "source": [
    "(x_train , y_train) , (x_test , y_test) = tf.keras.datasets.cifar10.load_data()"
   ]
  },
  {
   "cell_type": "code",
   "execution_count": 6,
   "id": "5a559147",
   "metadata": {},
   "outputs": [],
   "source": [
    "import matplotlib.pyplot as plt"
   ]
  },
  {
   "cell_type": "code",
   "execution_count": 7,
   "id": "5e7ed2b4",
   "metadata": {},
   "outputs": [
    {
     "data": {
      "text/plain": [
       "(50000, 32, 32, 3)"
      ]
     },
     "execution_count": 7,
     "metadata": {},
     "output_type": "execute_result"
    }
   ],
   "source": [
    "x_train.shape"
   ]
  },
  {
   "cell_type": "code",
   "execution_count": 8,
   "id": "1f59af68",
   "metadata": {},
   "outputs": [
    {
     "data": {
      "text/plain": [
       "(10000, 32, 32, 3)"
      ]
     },
     "execution_count": 8,
     "metadata": {},
     "output_type": "execute_result"
    }
   ],
   "source": [
    "x_test.shape"
   ]
  },
  {
   "cell_type": "code",
   "execution_count": 9,
   "id": "a304da42",
   "metadata": {},
   "outputs": [
    {
     "data": {
      "text/plain": [
       "(50000, 1)"
      ]
     },
     "execution_count": 9,
     "metadata": {},
     "output_type": "execute_result"
    }
   ],
   "source": [
    "y_train.shape"
   ]
  },
  {
   "cell_type": "code",
   "execution_count": 10,
   "id": "1f49cb51",
   "metadata": {},
   "outputs": [
    {
     "data": {
      "text/plain": [
       "(10000, 1)"
      ]
     },
     "execution_count": 10,
     "metadata": {},
     "output_type": "execute_result"
    }
   ],
   "source": [
    "y_test.shape"
   ]
  },
  {
   "cell_type": "code",
   "execution_count": 11,
   "id": "01e1c5e4",
   "metadata": {},
   "outputs": [
    {
     "data": {
      "text/plain": [
       "array([[[ 59,  62,  63],\n",
       "        [ 43,  46,  45],\n",
       "        [ 50,  48,  43],\n",
       "        ...,\n",
       "        [158, 132, 108],\n",
       "        [152, 125, 102],\n",
       "        [148, 124, 103]],\n",
       "\n",
       "       [[ 16,  20,  20],\n",
       "        [  0,   0,   0],\n",
       "        [ 18,   8,   0],\n",
       "        ...,\n",
       "        [123,  88,  55],\n",
       "        [119,  83,  50],\n",
       "        [122,  87,  57]],\n",
       "\n",
       "       [[ 25,  24,  21],\n",
       "        [ 16,   7,   0],\n",
       "        [ 49,  27,   8],\n",
       "        ...,\n",
       "        [118,  84,  50],\n",
       "        [120,  84,  50],\n",
       "        [109,  73,  42]],\n",
       "\n",
       "       ...,\n",
       "\n",
       "       [[208, 170,  96],\n",
       "        [201, 153,  34],\n",
       "        [198, 161,  26],\n",
       "        ...,\n",
       "        [160, 133,  70],\n",
       "        [ 56,  31,   7],\n",
       "        [ 53,  34,  20]],\n",
       "\n",
       "       [[180, 139,  96],\n",
       "        [173, 123,  42],\n",
       "        [186, 144,  30],\n",
       "        ...,\n",
       "        [184, 148,  94],\n",
       "        [ 97,  62,  34],\n",
       "        [ 83,  53,  34]],\n",
       "\n",
       "       [[177, 144, 116],\n",
       "        [168, 129,  94],\n",
       "        [179, 142,  87],\n",
       "        ...,\n",
       "        [216, 184, 140],\n",
       "        [151, 118,  84],\n",
       "        [123,  92,  72]]], dtype=uint8)"
      ]
     },
     "execution_count": 11,
     "metadata": {},
     "output_type": "execute_result"
    }
   ],
   "source": [
    "x_train[0]"
   ]
  },
  {
   "cell_type": "code",
   "execution_count": 12,
   "id": "f86efcaf",
   "metadata": {},
   "outputs": [
    {
     "data": {
      "text/plain": [
       "<matplotlib.image.AxesImage at 0x20c52cc9f50>"
      ]
     },
     "execution_count": 12,
     "metadata": {},
     "output_type": "execute_result"
    },
    {
     "data": {
      "image/png": "[encoded data removed]",
      "text/plain": [
       "<Figure size 640x480 with 1 Axes>"
      ]
     },
     "metadata": {},
     "output_type": "display_data"
    }
   ],
   "source": [
    "plt.imshow(x_train[1])"
   ]
  },
  {
   "cell_type": "code",
   "execution_count": 13,
   "id": "f0c38b41",
   "metadata": {},
   "outputs": [
    {
     "data": {
      "text/plain": [
       "<matplotlib.image.AxesImage at 0x20c52e4ce10>"
      ]
     },
     "execution_count": 13,
     "metadata": {},
     "output_type": "execute_result"
    },
    {
     "data": {
      "image/png": "[encoded data removed]",
      "text/plain": [
       "<Figure size 1000x100 with 1 Axes>"
      ]
     },
     "metadata": {},
     "output_type": "display_data"
    }
   ],
   "source": [
    "plt.figure(figsize=(10,1))      # it will used to reduce the size of the image\n",
    "plt.imshow(x_train[1])\n",
    "# plt.figure(figsize=(10,1))        if we are using down side it will not work"
   ]
  },
  {
   "cell_type": "markdown",
   "id": "2e1c36cd",
   "metadata": {},
   "source": [
    "### we need to write the object list of  cifar10 in a correct list"
   ]
  },
  {
   "cell_type": "code",
   "execution_count": 14,
   "id": "ab799e71",
   "metadata": {},
   "outputs": [],
   "source": [
    "classes = [\"aeroplane\",\"automobile\",\"bird\",\"cat\",\"deer\",\"dog\",\"frog\",\"horse\",\"ship\" , \"truck\"]"
   ]
  },
  {
   "cell_type": "markdown",
   "id": "a09079ce",
   "metadata": {},
   "source": [
    "##  x_train "
   ]
  },
  {
   "cell_type": "code",
   "execution_count": 15,
   "id": "5ed6af82",
   "metadata": {},
   "outputs": [
    {
     "data": {
      "text/plain": [
       "<matplotlib.image.AxesImage at 0x20c5309e010>"
      ]
     },
     "execution_count": 15,
     "metadata": {},
     "output_type": "execute_result"
    },
    {
     "data": {
      "image/png": "[encoded data removed]",
      "text/plain": [
       "<Figure size 1000x100 with 1 Axes>"
      ]
     },
     "metadata": {},
     "output_type": "display_data"
    }
   ],
   "source": [
    "plt.figure(figsize=(10,1))\n",
    "plt.imshow(x_train[2])"
   ]
  },
  {
   "cell_type": "markdown",
   "id": "94a340bc",
   "metadata": {},
   "source": [
    "####  we need to use y_train for predection"
   ]
  },
  {
   "cell_type": "code",
   "execution_count": 16,
   "id": "ee637b20",
   "metadata": {},
   "outputs": [
    {
     "data": {
      "text/plain": [
       "array([9], dtype=uint8)"
      ]
     },
     "execution_count": 16,
     "metadata": {},
     "output_type": "execute_result"
    }
   ],
   "source": [
    "y_train[2]"
   ]
  },
  {
   "cell_type": "code",
   "execution_count": 17,
   "id": "eadbcda2",
   "metadata": {},
   "outputs": [
    {
     "data": {
      "text/plain": [
       "'truck'"
      ]
     },
     "execution_count": 17,
     "metadata": {},
     "output_type": "execute_result"
    }
   ],
   "source": [
    "classes[y_train[2][0]]          # [0] is compulsary"
   ]
  },
  {
   "cell_type": "markdown",
   "id": "bde09cfc",
   "metadata": {},
   "source": [
    "## x_test "
   ]
  },
  {
   "cell_type": "code",
   "execution_count": 18,
   "id": "0625c9ba",
   "metadata": {
    "scrolled": true
   },
   "outputs": [
    {
     "data": {
      "text/plain": [
       "<matplotlib.image.AxesImage at 0x20c52dbad90>"
      ]
     },
     "execution_count": 18,
     "metadata": {},
     "output_type": "execute_result"
    },
    {
     "data": {
      "image/png": "[encoded data removed]",
      "text/plain": [
       "<Figure size 1000x100 with 1 Axes>"
      ]
     },
     "metadata": {},
     "output_type": "display_data"
    }
   ],
   "source": [
    "plt.figure(figsize=(10,1))\n",
    "plt.imshow(x_test[3])"
   ]
  },
  {
   "cell_type": "markdown",
   "id": "ac87bfed",
   "metadata": {},
   "source": [
    "#### we need to use y_test for predection"
   ]
  },
  {
   "cell_type": "code",
   "execution_count": 19,
   "id": "a1ff3a39",
   "metadata": {},
   "outputs": [
    {
     "data": {
      "text/plain": [
       "array([0], dtype=uint8)"
      ]
     },
     "execution_count": 19,
     "metadata": {},
     "output_type": "execute_result"
    }
   ],
   "source": [
    "y_test[3]"
   ]
  },
  {
   "cell_type": "code",
   "execution_count": 20,
   "id": "4504a494",
   "metadata": {},
   "outputs": [
    {
     "data": {
      "text/plain": [
       "'aeroplane'"
      ]
     },
     "execution_count": 20,
     "metadata": {},
     "output_type": "execute_result"
    }
   ],
   "source": [
    "classes[y_test[3][0]]"
   ]
  },
  {
   "cell_type": "markdown",
   "id": "e7870591",
   "metadata": {},
   "source": [
    "#  neural network "
   ]
  },
  {
   "cell_type": "markdown",
   "id": "82156e13",
   "metadata": {},
   "source": [
    "###  if we want good accuracy then we should divide the value by maximum value"
   ]
  },
  {
   "cell_type": "code",
   "execution_count": 21,
   "id": "095049c3",
   "metadata": {},
   "outputs": [
    {
     "data": {
      "text/plain": [
       "255"
      ]
     },
     "execution_count": 21,
     "metadata": {},
     "output_type": "execute_result"
    }
   ],
   "source": [
    "x_train.max()  # this is used to find the max value of the data"
   ]
  },
  {
   "cell_type": "markdown",
   "id": "76475e99",
   "metadata": {},
   "source": [
    "#####  The Minmaxscaller is used only when the datas are more than 2 datas , best example is available in customer_churn_predection"
   ]
  },
  {
   "cell_type": "code",
   "execution_count": 22,
   "id": "bf7b6e1d",
   "metadata": {},
   "outputs": [],
   "source": [
    "x_train = x_train/255\n",
    "x_test  = x_test/255  # no need of y_train , y_test , because we need to train only x_train , x_test"
   ]
  },
  {
   "cell_type": "code",
   "execution_count": 23,
   "id": "f418b654",
   "metadata": {},
   "outputs": [],
   "source": [
    "from tensorflow import keras"
   ]
  },
  {
   "cell_type": "code",
   "execution_count": 24,
   "id": "6367c66f",
   "metadata": {},
   "outputs": [
    {
     "data": {
      "text/plain": [
       "(50000, 32, 32, 3)"
      ]
     },
     "execution_count": 24,
     "metadata": {},
     "output_type": "execute_result"
    }
   ],
   "source": [
    "x_train.shape"
   ]
  },
  {
   "cell_type": "markdown",
   "id": "992229d5",
   "metadata": {},
   "source": [
    "#  ANN"
   ]
  },
  {
   "cell_type": "code",
   "execution_count": 25,
   "id": "0d7e7909",
   "metadata": {},
   "outputs": [
    {
     "name": "stdout",
     "output_type": "stream",
     "text": [
      "WARNING:tensorflow:From D:\\anacoda\\ANACONDA\\Lib\\site-packages\\keras\\src\\backend.py:873: The name tf.get_default_graph is deprecated. Please use tf.compat.v1.get_default_graph instead.\n",
      "\n",
      "WARNING:tensorflow:From D:\\anacoda\\ANACONDA\\Lib\\site-packages\\keras\\src\\optimizers\\__init__.py:309: The name tf.train.Optimizer is deprecated. Please use tf.compat.v1.train.Optimizer instead.\n",
      "\n",
      "Epoch 1/5\n",
      "WARNING:tensorflow:From D:\\anacoda\\ANACONDA\\Lib\\site-packages\\keras\\src\\utils\\tf_utils.py:492: The name tf.ragged.RaggedTensorValue is deprecated. Please use tf.compat.v1.ragged.RaggedTensorValue instead.\n",
      "\n",
      "WARNING:tensorflow:From D:\\anacoda\\ANACONDA\\Lib\\site-packages\\keras\\src\\engine\\base_layer_utils.py:384: The name tf.executing_eagerly_outside_functions is deprecated. Please use tf.compat.v1.executing_eagerly_outside_functions instead.\n",
      "\n",
      "1563/1563 [==============================] - 213s 135ms/step - loss: 1.8925 - accuracy: 0.3107\n",
      "Epoch 2/5\n",
      "1563/1563 [==============================] - 208s 133ms/step - loss: 1.6969 - accuracy: 0.3888\n",
      "Epoch 3/5\n",
      "1563/1563 [==============================] - 207s 132ms/step - loss: 1.6183 - accuracy: 0.4168\n",
      "Epoch 4/5\n",
      "1563/1563 [==============================] - 208s 133ms/step - loss: 1.5601 - accuracy: 0.4358\n",
      "Epoch 5/5\n",
      "1563/1563 [==============================] - 206s 132ms/step - loss: 1.5162 - accuracy: 0.4555\n"
     ]
    },
    {
     "data": {
      "text/plain": [
       "<keras.src.callbacks.History at 0x20c52ea6990>"
      ]
     },
     "execution_count": 25,
     "metadata": {},
     "output_type": "execute_result"
    }
   ],
   "source": [
    "ann  = keras.Sequential([ \n",
    "    keras.layers.Flatten(input_shape =(32,32,3,)),\n",
    "    keras.layers.Dense(2000, activation = 'relu'),\n",
    "    keras.layers.Dense(1500, activation = 'relu'),\n",
    "    keras.layers.Dense(1000, activation = 'relu'),\n",
    "    keras.layers.Dense(10, activation = 'sigmoid') ])\n",
    "\n",
    "ann.compile(optimizer='adam',\n",
    "              loss='sparse_categorical_crossentropy',\n",
    "              metrics=['accuracy']\n",
    "              \n",
    ")\n",
    "\n",
    "ann.fit(x_train , y_train , epochs=5)"
   ]
  },
  {
   "cell_type": "code",
   "execution_count": 130,
   "id": "9e8d66c5",
   "metadata": {},
   "outputs": [
    {
     "name": "stdout",
     "output_type": "stream",
     "text": [
      "313/313 [==============================] - 5s 17ms/step - loss: 1.5280 - accuracy: 0.4588\n"
     ]
    },
    {
     "data": {
      "text/plain": [
       "[1.5280323028564453, 0.45879998803138733]"
      ]
     },
     "execution_count": 130,
     "metadata": {},
     "output_type": "execute_result"
    }
   ],
   "source": [
    "ann.evaluate(x_test , y_test)"
   ]
  },
  {
   "cell_type": "code",
   "execution_count": 27,
   "id": "75334b16",
   "metadata": {},
   "outputs": [
    {
     "name": "stdout",
     "output_type": "stream",
     "text": [
      "313/313 [==============================] - 3s 9ms/step\n"
     ]
    }
   ],
   "source": [
    "y_pred = ann.predict(x_test)"
   ]
  },
  {
   "cell_type": "code",
   "execution_count": 28,
   "id": "a04db47e",
   "metadata": {},
   "outputs": [
    {
     "name": "stdout",
     "output_type": "stream",
     "text": [
      "[[0.5422833  0.31263712 0.45557186 0.74835604 0.31648913 0.70244926\n",
      "  0.5004679  0.12013486 0.40172    0.16377822]]\n"
     ]
    }
   ],
   "source": [
    "print(y_pred[:1])"
   ]
  },
  {
   "cell_type": "code",
   "execution_count": 29,
   "id": "c2ac37f3",
   "metadata": {},
   "outputs": [
    {
     "data": {
      "text/plain": [
       "array([[3]], dtype=uint8)"
      ]
     },
     "execution_count": 29,
     "metadata": {},
     "output_type": "execute_result"
    }
   ],
   "source": [
    "y_test[:1]"
   ]
  },
  {
   "cell_type": "code",
   "execution_count": 30,
   "id": "58918291",
   "metadata": {},
   "outputs": [],
   "source": [
    "from sklearn.metrics import confusion_matrix , classification_report"
   ]
  },
  {
   "cell_type": "code",
   "execution_count": 31,
   "id": "b691a40f",
   "metadata": {},
   "outputs": [],
   "source": [
    "import numpy as np"
   ]
  },
  {
   "cell_type": "code",
   "execution_count": 137,
   "id": "71c41414",
   "metadata": {},
   "outputs": [],
   "source": [
    "y_pred1 = [np.argmax(i) for i in  y_pred]"
   ]
  },
  {
   "cell_type": "markdown",
   "id": "cae82cdf",
   "metadata": {},
   "source": [
    "### confusion matrix "
   ]
  },
  {
   "cell_type": "code",
   "execution_count": 138,
   "id": "f2d2f82a",
   "metadata": {},
   "outputs": [
    {
     "data": {
      "text/plain": [
       "array([[596,  19,  55,  28,  54,   9,  20,  18, 160,  41],\n",
       "       [ 64, 517,  28,  31,  21,  16,   8,  15,  89, 211],\n",
       "       [123,  23, 291,  95, 236,  42,  98,  46,  25,  21],\n",
       "       [ 63,  21,  93, 355, 106, 106,  99,  30,  37,  90],\n",
       "       [ 74,   8, 139,  71, 487,  15, 107,  53,  23,  23],\n",
       "       [ 40,  13, 114, 248, 111, 272,  70,  53,  37,  42],\n",
       "       [ 14,  24,  84, 137, 173,  28, 466,  15,  16,  43],\n",
       "       [ 86,  11,  55,  85, 183,  49,  25, 414,  20,  72],\n",
       "       [137,  54,  13,  35,  23,  18,   4,   9, 634,  73],\n",
       "       [ 61, 156,   8,  43,  18,  10,  13,  31, 104, 556]], dtype=int64)"
      ]
     },
     "execution_count": 138,
     "metadata": {},
     "output_type": "execute_result"
    }
   ],
   "source": [
    "cm = confusion_matrix(y_test ,y_pred1)\n",
    "cm"
   ]
  },
  {
   "cell_type": "code",
   "execution_count": 34,
   "id": "989f5f5e",
   "metadata": {},
   "outputs": [],
   "source": [
    "import matplotlib.pyplot as plt\n",
    "import seaborn as sns"
   ]
  },
  {
   "cell_type": "code",
   "execution_count": 151,
   "id": "425426b0",
   "metadata": {},
   "outputs": [
    {
     "data": {
      "text/plain": [
       "<Axes: >"
      ]
     },
     "execution_count": 151,
     "metadata": {},
     "output_type": "execute_result"
    },
    {
     "data": {
      "image/png": "[encoded data removed]",
      "text/plain": [
       "<Figure size 640x480 with 2 Axes>"
      ]
     },
     "metadata": {},
     "output_type": "display_data"
    }
   ],
   "source": [
    "sns.heatmap(cm , annot=True  , fmt='d')"
   ]
  },
  {
   "cell_type": "markdown",
   "id": "dda7c3c5",
   "metadata": {},
   "source": [
    "###  classification report"
   ]
  },
  {
   "cell_type": "code",
   "execution_count": 36,
   "id": "df7d265f",
   "metadata": {
    "scrolled": true
   },
   "outputs": [
    {
     "name": "stdout",
     "output_type": "stream",
     "text": [
      "              precision    recall  f1-score   support\n",
      "\n",
      "           0       0.47      0.60      0.53      1000\n",
      "           1       0.61      0.52      0.56      1000\n",
      "           2       0.33      0.29      0.31      1000\n",
      "           3       0.31      0.35      0.33      1000\n",
      "           4       0.34      0.49      0.40      1000\n",
      "           5       0.48      0.27      0.35      1000\n",
      "           6       0.51      0.47      0.49      1000\n",
      "           7       0.61      0.41      0.49      1000\n",
      "           8       0.55      0.63      0.59      1000\n",
      "           9       0.47      0.56      0.51      1000\n",
      "\n",
      "    accuracy                           0.46     10000\n",
      "   macro avg       0.47      0.46      0.46     10000\n",
      "weighted avg       0.47      0.46      0.46     10000\n",
      "\n"
     ]
    }
   ],
   "source": [
    "cr = classification_report(y_test , y_pred1)\n",
    "print(cr)"
   ]
  },
  {
   "cell_type": "markdown",
   "id": "09a36b69",
   "metadata": {},
   "source": [
    "# CNN"
   ]
  },
  {
   "cell_type": "code",
   "execution_count": 93,
   "id": "ea90e485",
   "metadata": {},
   "outputs": [],
   "source": [
    "cnn = keras.Sequential([\n",
    "    \n",
    "    # CNN\n",
    "    \n",
    "#     keras.layers.Conv2D(filters=32 , kernel_size=(3,3) , activation= 'relu'),\n",
    "#     keras.layers.MaxPooling2D(pool_size=(2,2)),\n",
    "    \n",
    "                             # OR\n",
    "    \n",
    "    keras.layers.Conv2D(32 , (3 , 3) , activation= 'relu' , input_shape = (32 , 32,3 ,)),   # imput_shape is one time enough\n",
    "    keras.layers.MaxPooling2D((2,2)),\n",
    "    \n",
    "    keras.layers.Conv2D(filters=64, kernel_size=(3,3) , activation= 'relu'),  # we can write no.of layer we wish\n",
    "    keras.layers.MaxPooling2D(pool_size=(2,2)),\n",
    "    \n",
    "    \n",
    "    #dnse\n",
    "\n",
    "    keras.layers.Flatten(),          # noo need to add input_shape , it will take the above input_shape\n",
    "    keras.layers.Dense(200 , activation='relu'),\n",
    "    keras.layers.Dense(10 , activation='softmax'),      \n",
    "    \n",
    "])"
   ]
  },
  {
   "cell_type": "code",
   "execution_count": 94,
   "id": "61079bc3",
   "metadata": {},
   "outputs": [
    {
     "name": "stdout",
     "output_type": "stream",
     "text": [
      "Epoch 1/10\n",
      "1563/1563 [==============================] - 30s 18ms/step - loss: 1.3978 - accuracy: 0.4984\n",
      "Epoch 2/10\n",
      "1563/1563 [==============================] - 27s 17ms/step - loss: 1.0364 - accuracy: 0.6355\n",
      "Epoch 3/10\n",
      "1563/1563 [==============================] - 27s 17ms/step - loss: 0.8808 - accuracy: 0.6926\n",
      "Epoch 4/10\n",
      "1563/1563 [==============================] - 27s 17ms/step - loss: 0.7672 - accuracy: 0.7330\n",
      "Epoch 5/10\n",
      "1563/1563 [==============================] - 27s 17ms/step - loss: 0.6706 - accuracy: 0.7659\n",
      "Epoch 6/10\n",
      "1563/1563 [==============================] - 27s 17ms/step - loss: 0.5791 - accuracy: 0.7986\n",
      "Epoch 7/10\n",
      "1563/1563 [==============================] - 27s 17ms/step - loss: 0.4952 - accuracy: 0.8270\n",
      "Epoch 8/10\n",
      "1563/1563 [==============================] - 27s 17ms/step - loss: 0.4240 - accuracy: 0.8508\n",
      "Epoch 9/10\n",
      "1563/1563 [==============================] - 28s 18ms/step - loss: 0.3539 - accuracy: 0.8768\n",
      "Epoch 10/10\n",
      "1563/1563 [==============================] - 27s 17ms/step - loss: 0.2898 - accuracy: 0.8985\n"
     ]
    },
    {
     "data": {
      "text/plain": [
       "<keras.src.callbacks.History at 0x20d017cb0d0>"
      ]
     },
     "execution_count": 94,
     "metadata": {},
     "output_type": "execute_result"
    }
   ],
   "source": [
    "cnn.compile(optimizer='adam',\n",
    "              loss='sparse_categorical_crossentropy',\n",
    "              metrics=['accuracy']\n",
    "              \n",
    ")\n",
    "\n",
    "cnn.fit(x_train , y_train , epochs=10)"
   ]
  },
  {
   "cell_type": "code",
   "execution_count": 95,
   "id": "52eb4c75",
   "metadata": {},
   "outputs": [
    {
     "name": "stdout",
     "output_type": "stream",
     "text": [
      "313/313 [==============================] - 2s 6ms/step - loss: 1.1400 - accuracy: 0.6995\n"
     ]
    },
    {
     "data": {
      "text/plain": [
       "[1.1399967670440674, 0.6995000243186951]"
      ]
     },
     "execution_count": 95,
     "metadata": {},
     "output_type": "execute_result"
    }
   ],
   "source": [
    "cnn.evaluate(x_test , y_test)"
   ]
  },
  {
   "cell_type": "code",
   "execution_count": 131,
   "id": "9af2e0b1",
   "metadata": {},
   "outputs": [
    {
     "name": "stdout",
     "output_type": "stream",
     "text": [
      "313/313 [==============================] - 3s 10ms/step\n"
     ]
    }
   ],
   "source": [
    "y_pred2 = cnn.predict(x_test)"
   ]
  },
  {
   "cell_type": "code",
   "execution_count": 132,
   "id": "e00c3c31",
   "metadata": {},
   "outputs": [
    {
     "name": "stdout",
     "output_type": "stream",
     "text": [
      "[[2.2643935e-06 1.9373676e-09 1.6197652e-02 9.7752804e-01 7.6491946e-05\n",
      "  2.5031526e-05 6.1671673e-03 2.2817202e-08 2.4504257e-06 1.0065640e-06]]\n"
     ]
    }
   ],
   "source": [
    "print(y_pred[:1])"
   ]
  },
  {
   "cell_type": "code",
   "execution_count": 133,
   "id": "58949b6e",
   "metadata": {},
   "outputs": [],
   "source": [
    "from sklearn.metrics import confusion_matrix , classification_report"
   ]
  },
  {
   "cell_type": "code",
   "execution_count": 140,
   "id": "e263c284",
   "metadata": {},
   "outputs": [],
   "source": [
    "y_pred3 = [np.argmax(i) for i in  y_pred2]"
   ]
  },
  {
   "cell_type": "markdown",
   "id": "5f28f776",
   "metadata": {},
   "source": [
    "###  confusion matrix"
   ]
  },
  {
   "cell_type": "code",
   "execution_count": 154,
   "id": "51bcce49",
   "metadata": {},
   "outputs": [
    {
     "name": "stdout",
     "output_type": "stream",
     "text": [
      "[[742  14  69  28  14   6  10   7  68  42]\n",
      " [ 21 775  10  17   3   5  13   3  34 119]\n",
      " [ 46   5 587  94  77  77  69  23  12  10]\n",
      " [ 17   7  61 576  46 167  68  32  12  14]\n",
      " [ 17   3  73  91 612  47  85  54  15   3]\n",
      " [ 13   2  53 208  44 604  24  37  11   4]\n",
      " [  4   8  41  74  26  17 807   4  13   6]\n",
      " [ 15   2  32  69  69  77  14 696   4  22]\n",
      " [ 59  35  17  30   6  11   8   2 796  36]\n",
      " [ 19  69   8  32   5  13   9  11  34 800]]\n"
     ]
    }
   ],
   "source": [
    "cm1 = confusion_matrix(y_test , y_pred3)\n",
    "print(cm1)"
   ]
  },
  {
   "cell_type": "code",
   "execution_count": 152,
   "id": "f134a57b",
   "metadata": {},
   "outputs": [
    {
     "data": {
      "text/plain": [
       "<Axes: >"
      ]
     },
     "execution_count": 152,
     "metadata": {},
     "output_type": "execute_result"
    },
    {
     "data": {
      "image/png": "[encoded data removed]",
      "text/plain": [
       "<Figure size 640x480 with 2 Axes>"
      ]
     },
     "metadata": {},
     "output_type": "display_data"
    }
   ],
   "source": [
    "sns.heatmap(cm1 , annot=True , fmt='d')"
   ]
  },
  {
   "cell_type": "markdown",
   "id": "bfe67b3c",
   "metadata": {},
   "source": [
    "###  classification report"
   ]
  },
  {
   "cell_type": "code",
   "execution_count": 146,
   "id": "b572138f",
   "metadata": {},
   "outputs": [
    {
     "name": "stdout",
     "output_type": "stream",
     "text": [
      "              precision    recall  f1-score   support\n",
      "\n",
      "           0       0.78      0.74      0.76      1000\n",
      "           1       0.84      0.78      0.81      1000\n",
      "           2       0.62      0.59      0.60      1000\n",
      "           3       0.47      0.58      0.52      1000\n",
      "           4       0.68      0.61      0.64      1000\n",
      "           5       0.59      0.60      0.60      1000\n",
      "           6       0.73      0.81      0.77      1000\n",
      "           7       0.80      0.70      0.74      1000\n",
      "           8       0.80      0.80      0.80      1000\n",
      "           9       0.76      0.80      0.78      1000\n",
      "\n",
      "    accuracy                           0.70     10000\n",
      "   macro avg       0.71      0.70      0.70     10000\n",
      "weighted avg       0.71      0.70      0.70     10000\n",
      "\n"
     ]
    }
   ],
   "source": [
    "cr1 = classification_report(y_test , y_pred3)\n",
    "print(cr1)"
   ]
  },
  {
   "cell_type": "markdown",
   "id": "1994c360",
   "metadata": {},
   "source": [
    "###  predection"
   ]
  },
  {
   "cell_type": "code",
   "execution_count": 119,
   "id": "c364f1d7",
   "metadata": {},
   "outputs": [
    {
     "data": {
      "text/plain": [
       "['aeroplane',\n",
       " 'automobile',\n",
       " 'bird',\n",
       " 'cat',\n",
       " 'deer',\n",
       " 'dog',\n",
       " 'frog',\n",
       " 'horse',\n",
       " 'ship',\n",
       " 'truck']"
      ]
     },
     "execution_count": 119,
     "metadata": {},
     "output_type": "execute_result"
    }
   ],
   "source": [
    "classes"
   ]
  },
  {
   "cell_type": "code",
   "execution_count": 125,
   "id": "a92c3161",
   "metadata": {},
   "outputs": [
    {
     "data": {
      "text/plain": [
       "['aeroplane', 'automobile', 'bird', 'cat', 'deer']"
      ]
     },
     "execution_count": 125,
     "metadata": {},
     "output_type": "execute_result"
    }
   ],
   "source": [
    "classes[:5]"
   ]
  },
  {
   "cell_type": "code",
   "execution_count": 105,
   "id": "71ca3cb1",
   "metadata": {},
   "outputs": [
    {
     "data": {
      "text/plain": [
       "array([[3],\n",
       "       [8],\n",
       "       [8],\n",
       "       [0],\n",
       "       [6]], dtype=uint8)"
      ]
     },
     "execution_count": 105,
     "metadata": {},
     "output_type": "execute_result"
    }
   ],
   "source": [
    "y_test = np.round(y_test)\n",
    "y_test[:5]"
   ]
  },
  {
   "cell_type": "code",
   "execution_count": 123,
   "id": "c0e891a2",
   "metadata": {},
   "outputs": [
    {
     "data": {
      "text/plain": [
       "<matplotlib.image.AxesImage at 0x20ced4f6ed0>"
      ]
     },
     "execution_count": 123,
     "metadata": {},
     "output_type": "execute_result"
    },
    {
     "data": {
      "image/png": "[encoded data removed]",
      "text/plain": [
       "<Figure size 2000x100 with 1 Axes>"
      ]
     },
     "metadata": {},
     "output_type": "display_data"
    }
   ],
   "source": [
    "plt.figure(figsize=(20 , 1))\n",
    "plt.imshow(x_test[6])"
   ]
  },
  {
   "cell_type": "code",
   "execution_count": 127,
   "id": "888840fb",
   "metadata": {},
   "outputs": [
    {
     "data": {
      "text/plain": [
       "array([1], dtype=uint8)"
      ]
     },
     "execution_count": 127,
     "metadata": {},
     "output_type": "execute_result"
    }
   ],
   "source": [
    "y_test[6]"
   ]
  },
  {
   "cell_type": "code",
   "execution_count": 126,
   "id": "0458eccd",
   "metadata": {},
   "outputs": [
    {
     "data": {
      "text/plain": [
       "'automobile'"
      ]
     },
     "execution_count": 126,
     "metadata": {},
     "output_type": "execute_result"
    }
   ],
   "source": [
    "classes[y_test[6][0]]"
   ]
  }
 ],
 "metadata": {
  "kernelspec": {
   "display_name": "Python 3 (ipykernel)",
   "language": "python",
   "name": "python3"
  },
  "language_info": {
   "codemirror_mode": {
    "name": "ipython",
    "version": 3
   },
   "file_extension": ".py",
   "mimetype": "text/x-python",
   "name": "python",
   "nbconvert_exporter": "python",
   "pygments_lexer": "ipython3",
   "version": "3.11.5"
  }
 },
 "nbformat": 4,
 "nbformat_minor": 5
}
