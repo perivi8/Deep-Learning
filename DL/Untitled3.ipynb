{
 "cells": [
  {
   "cell_type": "code",
   "execution_count": 122,
   "id": "33be3c85",
   "metadata": {},
   "outputs": [],
   "source": [
    "true = ['cat' , 'not a cat','cat' , 'not a cat' , 'not a cat' , 'not a cat' , 'cat' , 'cat', 'not a cat' ,'not a cat']\n",
    "predicted = ['not a cat' ,'not a cat' , 'not a cat' , 'cat' , 'not a cat', 'cat' , 'cat' ,'not a cat' ,'cat' ,'cat' ]"
   ]
  },
  {
   "cell_type": "code",
   "execution_count": 123,
   "id": "36b539df",
   "metadata": {},
   "outputs": [],
   "source": [
    "from sklearn.metrics import confusion_matrix"
   ]
  },
  {
   "cell_type": "code",
   "execution_count": 124,
   "id": "855991e2",
   "metadata": {},
   "outputs": [],
   "source": [
    "cm = confusion_matrix(true , predicted)"
   ]
  },
  {
   "cell_type": "code",
   "execution_count": 125,
   "id": "4a6b8b40",
   "metadata": {},
   "outputs": [
    {
     "data": {
      "text/plain": [
       "array([[1, 3],\n",
       "       [4, 2]], dtype=int64)"
      ]
     },
     "execution_count": 125,
     "metadata": {},
     "output_type": "execute_result"
    }
   ],
   "source": [
    "cm"
   ]
  },
  {
   "cell_type": "code",
   "execution_count": 126,
   "id": "4703249f",
   "metadata": {},
   "outputs": [],
   "source": [
    "import seaborn as sns\n",
    "import matplotlib.pyplot as plt"
   ]
  },
  {
   "cell_type": "code",
   "execution_count": 127,
   "id": "8f7e0b9d",
   "metadata": {
    "scrolled": false
   },
   "outputs": [
    {
     "data": {
      "text/plain": [
       "Text(50.722222222222214, 0.5, 'truth')"
      ]
     },
     "execution_count": 127,
     "metadata": {},
     "output_type": "execute_result"
    },
    {
     "data": {
      "image/png": "[encoded data removed]",
      "text/plain": [
       "<Figure size 640x480 with 2 Axes>"
      ]
     },
     "metadata": {},
     "output_type": "display_data"
    }
   ],
   "source": [
    "sns.heatmap(cm , annot=True )\n",
    "plt.xlabel('prediction')\n",
    "plt.ylabel('truth')\n"
   ]
  },
  {
   "cell_type": "markdown",
   "id": "185714db",
   "metadata": {},
   "source": [
    "###  ( 0 , 0 ) = True Negative , ( 0 , 1 ) =  False Positive , ( 1 , 0 ) = False Negative  , ( 1 , 1 ) = True Positive"
   ]
  },
  {
   "cell_type": "code",
   "execution_count": 128,
   "id": "ed00642c",
   "metadata": {},
   "outputs": [
    {
     "data": {
      "text/plain": [
       "1"
      ]
     },
     "execution_count": 128,
     "metadata": {},
     "output_type": "execute_result"
    }
   ],
   "source": [
    "tn , fp , fn , tp = confusion_matrix(true , predicted).ravel()      # format likr this only (tn , fp , fn , tp)\n",
    "tn"
   ]
  },
  {
   "cell_type": "code",
   "execution_count": 129,
   "id": "5fb2f100",
   "metadata": {
    "scrolled": true
   },
   "outputs": [
    {
     "data": {
      "text/plain": [
       "2"
      ]
     },
     "execution_count": 129,
     "metadata": {},
     "output_type": "execute_result"
    }
   ],
   "source": [
    "tp"
   ]
  },
  {
   "cell_type": "code",
   "execution_count": 130,
   "id": "04d640b6",
   "metadata": {},
   "outputs": [
    {
     "data": {
      "text/plain": [
       "3"
      ]
     },
     "execution_count": 130,
     "metadata": {},
     "output_type": "execute_result"
    }
   ],
   "source": [
    "fp"
   ]
  },
  {
   "cell_type": "code",
   "execution_count": 131,
   "id": "fc3720dc",
   "metadata": {},
   "outputs": [
    {
     "data": {
      "text/plain": [
       "4"
      ]
     },
     "execution_count": 131,
     "metadata": {},
     "output_type": "execute_result"
    }
   ],
   "source": [
    "fn"
   ]
  },
  {
   "cell_type": "code",
   "execution_count": 132,
   "id": "c9902406",
   "metadata": {},
   "outputs": [],
   "source": [
    "from sklearn.metrics import classification_report"
   ]
  },
  {
   "cell_type": "code",
   "execution_count": 133,
   "id": "b1112b66",
   "metadata": {},
   "outputs": [],
   "source": [
    "cr = classification_report(true , predicted)"
   ]
  },
  {
   "cell_type": "code",
   "execution_count": 134,
   "id": "2c84e1e7",
   "metadata": {},
   "outputs": [
    {
     "name": "stdout",
     "output_type": "stream",
     "text": [
      "              precision    recall  f1-score   support\n",
      "\n",
      "         cat       0.20      0.25      0.22         4\n",
      "   not a cat       0.40      0.33      0.36         6\n",
      "\n",
      "    accuracy                           0.30        10\n",
      "   macro avg       0.30      0.29      0.29        10\n",
      "weighted avg       0.32      0.30      0.31        10\n",
      "\n"
     ]
    }
   ],
   "source": [
    "print(cr)   # if we write directly cr then it show in a single line"
   ]
  },
  {
   "cell_type": "code",
   "execution_count": 135,
   "id": "4465cdaa",
   "metadata": {},
   "outputs": [
    {
     "data": {
      "text/plain": [
       "0.22222222222222224"
      ]
     },
     "execution_count": 135,
     "metadata": {},
     "output_type": "execute_result"
    }
   ],
   "source": [
    "2*(0.20*0.25 )/(0.20 +0.25)"
   ]
  }
 ],
 "metadata": {
  "kernelspec": {
   "display_name": "Python 3 (ipykernel)",
   "language": "python",
   "name": "python3"
  },
  "language_info": {
   "codemirror_mode": {
    "name": "ipython",
    "version": 3
   },
   "file_extension": ".py",
   "mimetype": "text/x-python",
   "name": "python",
   "nbconvert_exporter": "python",
   "pygments_lexer": "ipython3",
   "version": "3.11.5"
  }
 },
 "nbformat": 4,
 "nbformat_minor": 5
}
