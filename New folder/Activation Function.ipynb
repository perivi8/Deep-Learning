{
 "cells": [
  {
   "cell_type": "markdown",
   "id": "9b573427",
   "metadata": {},
   "source": [
    "# Sigmoid Method "
   ]
  },
  {
   "cell_type": "markdown",
   "id": "2885953b",
   "metadata": {},
   "source": [
    "##  z = 1 / ( 1 + e^-x ) "
   ]
  },
  {
   "cell_type": "code",
   "execution_count": 75,
   "id": "17c06019",
   "metadata": {},
   "outputs": [],
   "source": [
    "import math"
   ]
  },
  {
   "cell_type": "code",
   "execution_count": 76,
   "id": "3b89dc56",
   "metadata": {},
   "outputs": [],
   "source": [
    "def sigmoid(x) :\n",
    "    return 1/(1+math.exp(-x))"
   ]
  },
  {
   "cell_type": "code",
   "execution_count": 77,
   "id": "6517db48",
   "metadata": {},
   "outputs": [
    {
     "data": {
      "text/plain": [
       "0.7310585786300049"
      ]
     },
     "execution_count": 77,
     "metadata": {},
     "output_type": "execute_result"
    }
   ],
   "source": [
    "sigmoid(1)"
   ]
  },
  {
   "cell_type": "code",
   "execution_count": 78,
   "id": "3197f5dd",
   "metadata": {},
   "outputs": [
    {
     "data": {
      "text/plain": [
       "1.0"
      ]
     },
     "execution_count": 78,
     "metadata": {},
     "output_type": "execute_result"
    }
   ],
   "source": [
    "sigmoid(90)"
   ]
  },
  {
   "cell_type": "code",
   "execution_count": 79,
   "id": "a3902df7",
   "metadata": {},
   "outputs": [
    {
     "data": {
      "text/plain": [
       "4.780892883885469e-25"
      ]
     },
     "execution_count": 79,
     "metadata": {},
     "output_type": "execute_result"
    }
   ],
   "source": [
    "sigmoid(-56)"
   ]
  },
  {
   "cell_type": "code",
   "execution_count": 80,
   "id": "65227c32",
   "metadata": {},
   "outputs": [
    {
     "data": {
      "text/plain": [
       "0.6224593312018546"
      ]
     },
     "execution_count": 80,
     "metadata": {},
     "output_type": "execute_result"
    }
   ],
   "source": [
    "sigmoid(0.5)"
   ]
  },
  {
   "cell_type": "markdown",
   "id": "4de22e0d",
   "metadata": {},
   "source": [
    " # Tanh Method "
   ]
  },
  {
   "cell_type": "markdown",
   "id": "09f3fe46",
   "metadata": {},
   "source": [
    "##  tanh (z) = ( e^x - e^-x )  /  ( e^x + e^-x) "
   ]
  },
  {
   "cell_type": "code",
   "execution_count": 81,
   "id": "df329d33",
   "metadata": {},
   "outputs": [],
   "source": [
    "def tanh(x):\n",
    "    return (math.exp(x) - math.exp(-x))/(math.exp(x) + math.exp(-x))"
   ]
  },
  {
   "cell_type": "code",
   "execution_count": 82,
   "id": "fd93cd82",
   "metadata": {},
   "outputs": [
    {
     "data": {
      "text/plain": [
       "0.7615941559557649"
      ]
     },
     "execution_count": 82,
     "metadata": {},
     "output_type": "execute_result"
    }
   ],
   "source": [
    "tanh(1)"
   ]
  },
  {
   "cell_type": "code",
   "execution_count": 83,
   "id": "6c941fb9",
   "metadata": {},
   "outputs": [
    {
     "data": {
      "text/plain": [
       "-1.0"
      ]
     },
     "execution_count": 83,
     "metadata": {},
     "output_type": "execute_result"
    }
   ],
   "source": [
    "tanh(-56)"
   ]
  },
  {
   "cell_type": "code",
   "execution_count": 84,
   "id": "a79f4407",
   "metadata": {},
   "outputs": [
    {
     "data": {
      "text/plain": [
       "1.0"
      ]
     },
     "execution_count": 84,
     "metadata": {},
     "output_type": "execute_result"
    }
   ],
   "source": [
    "tanh(50)"
   ]
  },
  {
   "cell_type": "code",
   "execution_count": 85,
   "id": "5d2c3b92",
   "metadata": {},
   "outputs": [
    {
     "data": {
      "text/plain": [
       "0.4621171572600098"
      ]
     },
     "execution_count": 85,
     "metadata": {},
     "output_type": "execute_result"
    }
   ],
   "source": [
    "tanh(0.5)"
   ]
  },
  {
   "cell_type": "markdown",
   "id": "41c83ba7",
   "metadata": {},
   "source": [
    "#  Relu Method"
   ]
  },
  {
   "cell_type": "markdown",
   "id": "a813da01",
   "metadata": {},
   "source": [
    "## relu (z) = max(0 , x )"
   ]
  },
  {
   "cell_type": "code",
   "execution_count": 86,
   "id": "1aa5b47b",
   "metadata": {},
   "outputs": [],
   "source": [
    "def relu(x):\n",
    "    return max(0 ,x)"
   ]
  },
  {
   "cell_type": "code",
   "execution_count": 87,
   "id": "c7602eeb",
   "metadata": {},
   "outputs": [
    {
     "data": {
      "text/plain": [
       "1"
      ]
     },
     "execution_count": 87,
     "metadata": {},
     "output_type": "execute_result"
    }
   ],
   "source": [
    "relu(1)"
   ]
  },
  {
   "cell_type": "code",
   "execution_count": 88,
   "id": "5d17c7ea",
   "metadata": {},
   "outputs": [
    {
     "data": {
      "text/plain": [
       "0"
      ]
     },
     "execution_count": 88,
     "metadata": {},
     "output_type": "execute_result"
    }
   ],
   "source": [
    "relu(-7)   # only negative values it shows the 0"
   ]
  },
  {
   "cell_type": "code",
   "execution_count": 89,
   "id": "f52eeaab",
   "metadata": {},
   "outputs": [
    {
     "data": {
      "text/plain": [
       "8"
      ]
     },
     "execution_count": 89,
     "metadata": {},
     "output_type": "execute_result"
    }
   ],
   "source": [
    "relu(8)"
   ]
  },
  {
   "cell_type": "code",
   "execution_count": 90,
   "id": "86c32182",
   "metadata": {},
   "outputs": [
    {
     "data": {
      "text/plain": [
       "10"
      ]
     },
     "execution_count": 90,
     "metadata": {},
     "output_type": "execute_result"
    }
   ],
   "source": [
    "relu(10)"
   ]
  },
  {
   "cell_type": "markdown",
   "id": "9840bba4",
   "metadata": {},
   "source": [
    "# Leaky relu "
   ]
  },
  {
   "cell_type": "markdown",
   "id": "2336c664",
   "metadata": {},
   "source": [
    "##  leaky relu ( z ) = max ( 0.1*x , x )"
   ]
  },
  {
   "cell_type": "code",
   "execution_count": 91,
   "id": "3fd824f9",
   "metadata": {},
   "outputs": [],
   "source": [
    "def leaky_relu (x):\n",
    "    return max(0.1*x , x)"
   ]
  },
  {
   "cell_type": "code",
   "execution_count": 92,
   "id": "a7a0f4e1",
   "metadata": {},
   "outputs": [
    {
     "data": {
      "text/plain": [
       "-0.04000000000000001"
      ]
     },
     "execution_count": 92,
     "metadata": {},
     "output_type": "execute_result"
    }
   ],
   "source": [
    "leaky_relu(-0.4)"
   ]
  },
  {
   "cell_type": "code",
   "execution_count": 93,
   "id": "6f71e00c",
   "metadata": {},
   "outputs": [
    {
     "data": {
      "text/plain": [
       "-1.0"
      ]
     },
     "execution_count": 93,
     "metadata": {},
     "output_type": "execute_result"
    }
   ],
   "source": [
    "leaky_relu(-10)"
   ]
  },
  {
   "cell_type": "code",
   "execution_count": 94,
   "id": "7adf4ae6",
   "metadata": {},
   "outputs": [
    {
     "data": {
      "text/plain": [
       "-10.0"
      ]
     },
     "execution_count": 94,
     "metadata": {},
     "output_type": "execute_result"
    }
   ],
   "source": [
    "leaky_relu(-100)   # negetive values are divide by 10"
   ]
  },
  {
   "cell_type": "code",
   "execution_count": 95,
   "id": "f70674b2",
   "metadata": {},
   "outputs": [
    {
     "data": {
      "text/plain": [
       "-0.4"
      ]
     },
     "execution_count": 95,
     "metadata": {},
     "output_type": "execute_result"
    }
   ],
   "source": [
    "leaky_relu(-4)    "
   ]
  },
  {
   "cell_type": "code",
   "execution_count": 96,
   "id": "ccebaf8a",
   "metadata": {},
   "outputs": [
    {
     "data": {
      "text/plain": [
       "4"
      ]
     },
     "execution_count": 96,
     "metadata": {},
     "output_type": "execute_result"
    }
   ],
   "source": [
    "leaky_relu(4)   # it  does mot cahnnge positive values"
   ]
  },
  {
   "cell_type": "code",
   "execution_count": 97,
   "id": "8160d92e",
   "metadata": {},
   "outputs": [
    {
     "data": {
      "text/plain": [
       "100"
      ]
     },
     "execution_count": 97,
     "metadata": {},
     "output_type": "execute_result"
    }
   ],
   "source": [
    "leaky_relu(100)"
   ]
  }
 ],
 "metadata": {
  "kernelspec": {
   "display_name": "Python 3 (ipykernel)",
   "language": "python",
   "name": "python3"
  },
  "language_info": {
   "codemirror_mode": {
    "name": "ipython",
    "version": 3
   },
   "file_extension": ".py",
   "mimetype": "text/x-python",
   "name": "python",
   "nbconvert_exporter": "python",
   "pygments_lexer": "ipython3",
   "version": "3.11.5"
  }
 },
 "nbformat": 4,
 "nbformat_minor": 5
}
